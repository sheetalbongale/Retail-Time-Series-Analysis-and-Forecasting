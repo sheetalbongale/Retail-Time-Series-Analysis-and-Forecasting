{
 "cells": [
  {
   "cell_type": "markdown",
   "metadata": {},
   "source": [
    "# Time Series Forecasting for Future Sales\n",
    "---\n",
    "**Submitted by: Sheetal Bongale | March 2021**"
   ]
  },
  {
   "cell_type": "markdown",
   "metadata": {},
   "source": [
    "Steps -\n",
    "1. Data Wrangling and Exploratory Data Analysis\n",
    "2. Feature Engineering and Selection\n",
    "3. **Modeling and forecasting**\n",
    "4. **Model evaluation and validation**\n",
    "5. **Sales quantity forecast results and visualization**\n",
    "6. Final results and analysis report"
   ]
  },
  {
   "cell_type": "code",
   "execution_count": null,
   "metadata": {},
   "outputs": [],
   "source": []
  }
 ],
 "metadata": {
  "kernelspec": {
   "display_name": "Python 3.8.0 64-bit",
   "language": "python",
   "name": "python38064bitd9b4d3238720436582e4f630b3b49204"
  },
  "language_info": {
   "codemirror_mode": {
    "name": "ipython",
    "version": 3
   },
   "file_extension": ".py",
   "mimetype": "text/x-python",
   "name": "python",
   "nbconvert_exporter": "python",
   "pygments_lexer": "ipython3",
   "version": "3.8.0"
  }
 },
 "nbformat": 4,
 "nbformat_minor": 2
}
