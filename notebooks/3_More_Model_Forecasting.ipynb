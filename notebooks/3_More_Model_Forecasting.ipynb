{
 "cells": [
  {
   "cell_type": "code",
   "execution_count": 1,
   "metadata": {},
   "outputs": [
    {
     "data": {
      "text/html": [
       "        <script type=\"text/javascript\">\n",
       "        window.PlotlyConfig = {MathJaxConfig: 'local'};\n",
       "        if (window.MathJax) {MathJax.Hub.Config({SVG: {font: \"STIX-Web\"}});}\n",
       "        if (typeof require !== 'undefined') {\n",
       "        require.undef(\"plotly\");\n",
       "        requirejs.config({\n",
       "            paths: {\n",
       "                'plotly': ['https://cdn.plot.ly/plotly-latest.min']\n",
       "            }\n",
       "        });\n",
       "        require(['plotly'], function(Plotly) {\n",
       "            window._Plotly = Plotly;\n",
       "        });\n",
       "        }\n",
       "        </script>\n",
       "        "
      ]
     },
     "metadata": {},
     "output_type": "display_data"
    }
   ],
   "source": [
    "# import libraries\n",
    "import pandas as pd\n",
    "import numpy as np\n",
    "import math\n",
    "from pandas import DataFrame\n",
    "from pandas import Series\n",
    "import matplotlib.pyplot as plt\n",
    "import seaborn as sns\n",
    "import plotly\n",
    "import plotly.io as pio\n",
    "import plotly.express as px\n",
    "import plotly.graph_objects as go\n",
    "import plotly.offline as pyoff\n",
    "import plotly.figure_factory as ff\n",
    "import datetime\n",
    "from pandas import to_datetime\n",
    "\n",
    "from statsmodels.tsa.stattools import adfuller\n",
    "from statsmodels.graphics.tsaplots import plot_pacf,plot_acf\n",
    "from statsmodels.tsa.arima_model import ARIMA\n",
    "import statsmodels.api as sm\n",
    "import statsmodels.api as smt\n",
    "\n",
    "from sklearn.metrics import mean_squared_error, mean_absolute_error, r2_score\n",
    "from sklearn.preprocessing import MinMaxScaler\n",
    "from keras.models import Sequential\n",
    "from keras.layers import Dense\n",
    "from keras.layers import LSTM\n",
    "from math import sqrt\n",
    "\n",
    "from fbprophet import Prophet\n",
    "from matplotlib import pyplot\n",
    "from scipy.stats import boxcox\n",
    "\n",
    "pio.renderers\n",
    "pio.renderers.default='notebook+jupyterlab'\n",
    "plotly.offline.init_notebook_mode(connected=True)\n",
    "\n",
    "import warnings\n",
    "warnings.filterwarnings('ignore')"
   ]
  },
  {
   "cell_type": "code",
   "execution_count": 2,
   "metadata": {},
   "outputs": [
    {
     "name": "stdout",
     "output_type": "stream",
     "text": [
      "<class 'pandas.core.frame.DataFrame'>\n",
      "RangeIndex: 1740 entries, 0 to 1739\n",
      "Data columns (total 16 columns):\n",
      " #   Column       Non-Null Count  Dtype  \n",
      "---  ------       --------------  -----  \n",
      " 0   Date         1740 non-null   object \n",
      " 1   InvoiceNo    1740 non-null   int64  \n",
      " 2   StockCode    1740 non-null   int64  \n",
      " 3   Description  1740 non-null   object \n",
      " 4   Quantity     1740 non-null   int64  \n",
      " 5   InvoiceDate  1740 non-null   object \n",
      " 6   UnitPrice    1740 non-null   float64\n",
      " 7   CustomerID   1740 non-null   float64\n",
      " 8   Country      1740 non-null   object \n",
      " 9   Year         1740 non-null   int64  \n",
      " 10  Quarter      1740 non-null   int64  \n",
      " 11  Month        1740 non-null   int64  \n",
      " 12  Week         1740 non-null   int64  \n",
      " 13  Day          1740 non-null   int64  \n",
      " 14  Weekday      1740 non-null   int64  \n",
      " 15  Total_Sales  1740 non-null   float64\n",
      "dtypes: float64(3), int64(9), object(4)\n",
      "memory usage: 217.6+ KB\n"
     ]
    }
   ],
   "source": [
    "df = pd.read_csv(\"../data/top_selling_data.csv\")\n",
    "df.info()"
   ]
  },
  {
   "cell_type": "code",
   "execution_count": 3,
   "metadata": {},
   "outputs": [
    {
     "data": {
      "text/html": [
       "<div>\n",
       "<style scoped>\n",
       "    .dataframe tbody tr th:only-of-type {\n",
       "        vertical-align: middle;\n",
       "    }\n",
       "\n",
       "    .dataframe tbody tr th {\n",
       "        vertical-align: top;\n",
       "    }\n",
       "\n",
       "    .dataframe thead th {\n",
       "        text-align: right;\n",
       "    }\n",
       "</style>\n",
       "<table border=\"1\" class=\"dataframe\">\n",
       "  <thead>\n",
       "    <tr style=\"text-align: right;\">\n",
       "      <th></th>\n",
       "      <th>Date</th>\n",
       "      <th>InvoiceNo</th>\n",
       "      <th>StockCode</th>\n",
       "      <th>Description</th>\n",
       "      <th>Quantity</th>\n",
       "      <th>InvoiceDate</th>\n",
       "      <th>UnitPrice</th>\n",
       "      <th>CustomerID</th>\n",
       "      <th>Country</th>\n",
       "      <th>Year</th>\n",
       "      <th>Quarter</th>\n",
       "      <th>Month</th>\n",
       "      <th>Week</th>\n",
       "      <th>Day</th>\n",
       "      <th>Weekday</th>\n",
       "      <th>Total_Sales</th>\n",
       "    </tr>\n",
       "  </thead>\n",
       "  <tbody>\n",
       "    <tr>\n",
       "      <th>0</th>\n",
       "      <td>2011-05-10</td>\n",
       "      <td>552654</td>\n",
       "      <td>23084</td>\n",
       "      <td>RABBIT NIGHT LIGHT</td>\n",
       "      <td>2</td>\n",
       "      <td>2011-05-10 14:20:00</td>\n",
       "      <td>2.08</td>\n",
       "      <td>15756.0</td>\n",
       "      <td>United Kingdom</td>\n",
       "      <td>2011</td>\n",
       "      <td>2</td>\n",
       "      <td>5</td>\n",
       "      <td>19</td>\n",
       "      <td>10</td>\n",
       "      <td>1</td>\n",
       "      <td>4.16</td>\n",
       "    </tr>\n",
       "    <tr>\n",
       "      <th>1</th>\n",
       "      <td>2011-05-11</td>\n",
       "      <td>552724</td>\n",
       "      <td>23084</td>\n",
       "      <td>RABBIT NIGHT LIGHT</td>\n",
       "      <td>6</td>\n",
       "      <td>2011-05-11 10:29:00</td>\n",
       "      <td>2.08</td>\n",
       "      <td>13418.0</td>\n",
       "      <td>United Kingdom</td>\n",
       "      <td>2011</td>\n",
       "      <td>2</td>\n",
       "      <td>5</td>\n",
       "      <td>19</td>\n",
       "      <td>11</td>\n",
       "      <td>2</td>\n",
       "      <td>12.48</td>\n",
       "    </tr>\n",
       "    <tr>\n",
       "      <th>2</th>\n",
       "      <td>2011-05-11</td>\n",
       "      <td>552811</td>\n",
       "      <td>23084</td>\n",
       "      <td>RABBIT NIGHT LIGHT</td>\n",
       "      <td>24</td>\n",
       "      <td>2011-05-11 12:43:00</td>\n",
       "      <td>1.79</td>\n",
       "      <td>17677.0</td>\n",
       "      <td>United Kingdom</td>\n",
       "      <td>2011</td>\n",
       "      <td>2</td>\n",
       "      <td>5</td>\n",
       "      <td>19</td>\n",
       "      <td>11</td>\n",
       "      <td>2</td>\n",
       "      <td>42.96</td>\n",
       "    </tr>\n",
       "    <tr>\n",
       "      <th>3</th>\n",
       "      <td>2011-05-11</td>\n",
       "      <td>552816</td>\n",
       "      <td>23084</td>\n",
       "      <td>RABBIT NIGHT LIGHT</td>\n",
       "      <td>1</td>\n",
       "      <td>2011-05-11 12:47:00</td>\n",
       "      <td>2.08</td>\n",
       "      <td>15521.0</td>\n",
       "      <td>United Kingdom</td>\n",
       "      <td>2011</td>\n",
       "      <td>2</td>\n",
       "      <td>5</td>\n",
       "      <td>19</td>\n",
       "      <td>11</td>\n",
       "      <td>2</td>\n",
       "      <td>2.08</td>\n",
       "    </tr>\n",
       "    <tr>\n",
       "      <th>4</th>\n",
       "      <td>2011-05-11</td>\n",
       "      <td>552822</td>\n",
       "      <td>23084</td>\n",
       "      <td>RABBIT NIGHT LIGHT</td>\n",
       "      <td>30</td>\n",
       "      <td>2011-05-11 12:59:00</td>\n",
       "      <td>1.79</td>\n",
       "      <td>15521.0</td>\n",
       "      <td>United Kingdom</td>\n",
       "      <td>2011</td>\n",
       "      <td>2</td>\n",
       "      <td>5</td>\n",
       "      <td>19</td>\n",
       "      <td>11</td>\n",
       "      <td>2</td>\n",
       "      <td>53.70</td>\n",
       "    </tr>\n",
       "  </tbody>\n",
       "</table>\n",
       "</div>"
      ],
      "text/plain": [
       "        Date  InvoiceNo  StockCode         Description  Quantity  \\\n",
       "0 2011-05-10     552654      23084  RABBIT NIGHT LIGHT         2   \n",
       "1 2011-05-11     552724      23084  RABBIT NIGHT LIGHT         6   \n",
       "2 2011-05-11     552811      23084  RABBIT NIGHT LIGHT        24   \n",
       "3 2011-05-11     552816      23084  RABBIT NIGHT LIGHT         1   \n",
       "4 2011-05-11     552822      23084  RABBIT NIGHT LIGHT        30   \n",
       "\n",
       "           InvoiceDate  UnitPrice  CustomerID         Country  Year  Quarter  \\\n",
       "0  2011-05-10 14:20:00       2.08     15756.0  United Kingdom  2011        2   \n",
       "1  2011-05-11 10:29:00       2.08     13418.0  United Kingdom  2011        2   \n",
       "2  2011-05-11 12:43:00       1.79     17677.0  United Kingdom  2011        2   \n",
       "3  2011-05-11 12:47:00       2.08     15521.0  United Kingdom  2011        2   \n",
       "4  2011-05-11 12:59:00       1.79     15521.0  United Kingdom  2011        2   \n",
       "\n",
       "   Month  Week  Day  Weekday  Total_Sales  \n",
       "0      5    19   10        1         4.16  \n",
       "1      5    19   11        2        12.48  \n",
       "2      5    19   11        2        42.96  \n",
       "3      5    19   11        2         2.08  \n",
       "4      5    19   11        2        53.70  "
      ]
     },
     "execution_count": 3,
     "metadata": {},
     "output_type": "execute_result"
    }
   ],
   "source": [
    "df['Date'] = pd.to_datetime(df['Date'])\n",
    "df.head()"
   ]
  },
  {
   "cell_type": "code",
   "execution_count": 4,
   "metadata": {},
   "outputs": [],
   "source": [
    "df1 = df.loc[df['Description']=='POPCORN HOLDER']\n",
    "df1 = df1.groupby(['Date'])['Quantity'].sum().reset_index()\n",
    "df1 = df1[['Date', 'Quantity']]"
   ]
  },
  {
   "cell_type": "code",
   "execution_count": 5,
   "metadata": {},
   "outputs": [
    {
     "data": {
      "text/plain": [
       "(149, 2)"
      ]
     },
     "execution_count": 5,
     "metadata": {},
     "output_type": "execute_result"
    }
   ],
   "source": [
    "df1.shape"
   ]
  },
  {
   "cell_type": "code",
   "execution_count": 6,
   "metadata": {
    "scrolled": true
   },
   "outputs": [
    {
     "data": {
      "application/vnd.plotly.v1+json": {
       "config": {
        "plotlyServerURL": "https://plot.ly"
       },
       "data": [
        {
         "line": {
          "color": "darkturquoise"
         },
         "type": "scatter",
         "x": [
          "2011-06-12T00:00:00",
          "2011-06-13T00:00:00",
          "2011-06-14T00:00:00",
          "2011-06-15T00:00:00",
          "2011-06-16T00:00:00",
          "2011-06-17T00:00:00",
          "2011-06-19T00:00:00",
          "2011-06-20T00:00:00",
          "2011-06-21T00:00:00",
          "2011-06-22T00:00:00",
          "2011-06-23T00:00:00",
          "2011-06-24T00:00:00",
          "2011-06-27T00:00:00",
          "2011-06-28T00:00:00",
          "2011-06-30T00:00:00",
          "2011-07-01T00:00:00",
          "2011-07-04T00:00:00",
          "2011-07-05T00:00:00",
          "2011-07-06T00:00:00",
          "2011-07-07T00:00:00",
          "2011-07-08T00:00:00",
          "2011-07-10T00:00:00",
          "2011-07-11T00:00:00",
          "2011-07-12T00:00:00",
          "2011-07-13T00:00:00",
          "2011-07-14T00:00:00",
          "2011-07-15T00:00:00",
          "2011-07-17T00:00:00",
          "2011-07-18T00:00:00",
          "2011-07-19T00:00:00",
          "2011-07-20T00:00:00",
          "2011-07-21T00:00:00",
          "2011-07-22T00:00:00",
          "2011-07-24T00:00:00",
          "2011-07-25T00:00:00",
          "2011-07-26T00:00:00",
          "2011-07-27T00:00:00",
          "2011-07-28T00:00:00",
          "2011-07-29T00:00:00",
          "2011-07-31T00:00:00",
          "2011-08-01T00:00:00",
          "2011-08-02T00:00:00",
          "2011-08-03T00:00:00",
          "2011-08-04T00:00:00",
          "2011-08-05T00:00:00",
          "2011-08-08T00:00:00",
          "2011-08-10T00:00:00",
          "2011-08-11T00:00:00",
          "2011-08-12T00:00:00",
          "2011-08-14T00:00:00",
          "2011-08-15T00:00:00",
          "2011-08-16T00:00:00",
          "2011-08-17T00:00:00",
          "2011-08-18T00:00:00",
          "2011-08-19T00:00:00",
          "2011-08-21T00:00:00",
          "2011-08-22T00:00:00",
          "2011-08-23T00:00:00",
          "2011-08-24T00:00:00",
          "2011-08-25T00:00:00",
          "2011-08-26T00:00:00",
          "2011-08-28T00:00:00",
          "2011-08-31T00:00:00",
          "2011-09-01T00:00:00",
          "2011-09-02T00:00:00",
          "2011-09-04T00:00:00",
          "2011-09-05T00:00:00",
          "2011-09-06T00:00:00",
          "2011-09-07T00:00:00",
          "2011-09-08T00:00:00",
          "2011-09-09T00:00:00",
          "2011-09-11T00:00:00",
          "2011-09-12T00:00:00",
          "2011-09-13T00:00:00",
          "2011-09-14T00:00:00",
          "2011-09-15T00:00:00",
          "2011-09-16T00:00:00",
          "2011-09-18T00:00:00",
          "2011-09-19T00:00:00",
          "2011-09-20T00:00:00",
          "2011-09-21T00:00:00",
          "2011-09-22T00:00:00",
          "2011-09-23T00:00:00",
          "2011-09-25T00:00:00",
          "2011-09-26T00:00:00",
          "2011-09-27T00:00:00",
          "2011-09-28T00:00:00",
          "2011-09-29T00:00:00",
          "2011-09-30T00:00:00",
          "2011-10-02T00:00:00",
          "2011-10-03T00:00:00",
          "2011-10-04T00:00:00",
          "2011-10-05T00:00:00",
          "2011-10-06T00:00:00",
          "2011-10-07T00:00:00",
          "2011-10-09T00:00:00",
          "2011-10-10T00:00:00",
          "2011-10-11T00:00:00",
          "2011-10-12T00:00:00",
          "2011-10-13T00:00:00",
          "2011-10-14T00:00:00",
          "2011-10-16T00:00:00",
          "2011-10-17T00:00:00",
          "2011-10-18T00:00:00",
          "2011-10-19T00:00:00",
          "2011-10-20T00:00:00",
          "2011-10-21T00:00:00",
          "2011-10-23T00:00:00",
          "2011-10-24T00:00:00",
          "2011-10-25T00:00:00",
          "2011-10-26T00:00:00",
          "2011-10-27T00:00:00",
          "2011-10-28T00:00:00",
          "2011-10-30T00:00:00",
          "2011-10-31T00:00:00",
          "2011-11-01T00:00:00",
          "2011-11-02T00:00:00",
          "2011-11-03T00:00:00",
          "2011-11-04T00:00:00",
          "2011-11-06T00:00:00",
          "2011-11-07T00:00:00",
          "2011-11-08T00:00:00",
          "2011-11-09T00:00:00",
          "2011-11-10T00:00:00",
          "2011-11-11T00:00:00",
          "2011-11-13T00:00:00",
          "2011-11-14T00:00:00",
          "2011-11-15T00:00:00",
          "2011-11-16T00:00:00",
          "2011-11-17T00:00:00",
          "2011-11-18T00:00:00",
          "2011-11-20T00:00:00",
          "2011-11-21T00:00:00",
          "2011-11-22T00:00:00",
          "2011-11-23T00:00:00",
          "2011-11-24T00:00:00",
          "2011-11-25T00:00:00",
          "2011-11-27T00:00:00",
          "2011-11-28T00:00:00",
          "2011-11-29T00:00:00",
          "2011-11-30T00:00:00",
          "2011-12-01T00:00:00",
          "2011-12-02T00:00:00",
          "2011-12-04T00:00:00",
          "2011-12-05T00:00:00",
          "2011-12-06T00:00:00",
          "2011-12-07T00:00:00",
          "2011-12-08T00:00:00",
          "2011-12-09T00:00:00"
         ],
         "y": [
          9,
          15,
          14,
          103,
          9,
          82,
          54,
          12,
          47,
          1,
          71,
          124,
          46,
          55,
          264,
          26,
          45,
          212,
          16,
          48,
          236,
          29,
          12,
          13,
          26,
          70,
          4,
          14,
          42,
          61,
          67,
          168,
          100,
          134,
          28,
          24,
          72,
          16,
          84,
          204,
          21,
          36,
          14,
          2030,
          61,
          249,
          600,
          660,
          60,
          24,
          100,
          24,
          194,
          38,
          98,
          55,
          36,
          49,
          49,
          34,
          612,
          18,
          124,
          101,
          524,
          24,
          102,
          12,
          74,
          64,
          118,
          102,
          59,
          24,
          100,
          33,
          108,
          40,
          174,
          164,
          124,
          25,
          50,
          12,
          27,
          70,
          124,
          284,
          1085,
          39,
          75,
          114,
          44,
          386,
          30,
          126,
          142,
          78,
          198,
          133,
          238,
          6,
          530,
          258,
          246,
          15,
          60,
          12,
          229,
          234,
          43,
          44,
          2052,
          137,
          175,
          286,
          157,
          17,
          156,
          294,
          192,
          77,
          1075,
          339,
          87,
          114,
          618,
          166,
          294,
          84,
          351,
          218,
          326,
          1051,
          497,
          530,
          227,
          44,
          231,
          668,
          359,
          188,
          1270,
          49,
          272,
          233,
          368,
          2854,
          128
         ]
        }
       ],
       "layout": {
        "height": 400,
        "template": {
         "data": {
          "bar": [
           {
            "error_x": {
             "color": "rgb(51,51,51)"
            },
            "error_y": {
             "color": "rgb(51,51,51)"
            },
            "marker": {
             "line": {
              "color": "rgb(237,237,237)",
              "width": 0.5
             }
            },
            "type": "bar"
           }
          ],
          "barpolar": [
           {
            "marker": {
             "line": {
              "color": "rgb(237,237,237)",
              "width": 0.5
             }
            },
            "type": "barpolar"
           }
          ],
          "carpet": [
           {
            "aaxis": {
             "endlinecolor": "rgb(51,51,51)",
             "gridcolor": "white",
             "linecolor": "white",
             "minorgridcolor": "white",
             "startlinecolor": "rgb(51,51,51)"
            },
            "baxis": {
             "endlinecolor": "rgb(51,51,51)",
             "gridcolor": "white",
             "linecolor": "white",
             "minorgridcolor": "white",
             "startlinecolor": "rgb(51,51,51)"
            },
            "type": "carpet"
           }
          ],
          "choropleth": [
           {
            "colorbar": {
             "outlinewidth": 0,
             "tickcolor": "rgb(237,237,237)",
             "ticklen": 6,
             "ticks": "inside"
            },
            "type": "choropleth"
           }
          ],
          "contour": [
           {
            "colorbar": {
             "outlinewidth": 0,
             "tickcolor": "rgb(237,237,237)",
             "ticklen": 6,
             "ticks": "inside"
            },
            "colorscale": [
             [
              0,
              "rgb(20,44,66)"
             ],
             [
              1,
              "rgb(90,179,244)"
             ]
            ],
            "type": "contour"
           }
          ],
          "contourcarpet": [
           {
            "colorbar": {
             "outlinewidth": 0,
             "tickcolor": "rgb(237,237,237)",
             "ticklen": 6,
             "ticks": "inside"
            },
            "type": "contourcarpet"
           }
          ],
          "heatmap": [
           {
            "colorbar": {
             "outlinewidth": 0,
             "tickcolor": "rgb(237,237,237)",
             "ticklen": 6,
             "ticks": "inside"
            },
            "colorscale": [
             [
              0,
              "rgb(20,44,66)"
             ],
             [
              1,
              "rgb(90,179,244)"
             ]
            ],
            "type": "heatmap"
           }
          ],
          "heatmapgl": [
           {
            "colorbar": {
             "outlinewidth": 0,
             "tickcolor": "rgb(237,237,237)",
             "ticklen": 6,
             "ticks": "inside"
            },
            "colorscale": [
             [
              0,
              "rgb(20,44,66)"
             ],
             [
              1,
              "rgb(90,179,244)"
             ]
            ],
            "type": "heatmapgl"
           }
          ],
          "histogram": [
           {
            "marker": {
             "colorbar": {
              "outlinewidth": 0,
              "tickcolor": "rgb(237,237,237)",
              "ticklen": 6,
              "ticks": "inside"
             }
            },
            "type": "histogram"
           }
          ],
          "histogram2d": [
           {
            "colorbar": {
             "outlinewidth": 0,
             "tickcolor": "rgb(237,237,237)",
             "ticklen": 6,
             "ticks": "inside"
            },
            "colorscale": [
             [
              0,
              "rgb(20,44,66)"
             ],
             [
              1,
              "rgb(90,179,244)"
             ]
            ],
            "type": "histogram2d"
           }
          ],
          "histogram2dcontour": [
           {
            "colorbar": {
             "outlinewidth": 0,
             "tickcolor": "rgb(237,237,237)",
             "ticklen": 6,
             "ticks": "inside"
            },
            "colorscale": [
             [
              0,
              "rgb(20,44,66)"
             ],
             [
              1,
              "rgb(90,179,244)"
             ]
            ],
            "type": "histogram2dcontour"
           }
          ],
          "mesh3d": [
           {
            "colorbar": {
             "outlinewidth": 0,
             "tickcolor": "rgb(237,237,237)",
             "ticklen": 6,
             "ticks": "inside"
            },
            "type": "mesh3d"
           }
          ],
          "parcoords": [
           {
            "line": {
             "colorbar": {
              "outlinewidth": 0,
              "tickcolor": "rgb(237,237,237)",
              "ticklen": 6,
              "ticks": "inside"
             }
            },
            "type": "parcoords"
           }
          ],
          "pie": [
           {
            "automargin": true,
            "type": "pie"
           }
          ],
          "scatter": [
           {
            "marker": {
             "colorbar": {
              "outlinewidth": 0,
              "tickcolor": "rgb(237,237,237)",
              "ticklen": 6,
              "ticks": "inside"
             }
            },
            "type": "scatter"
           }
          ],
          "scatter3d": [
           {
            "line": {
             "colorbar": {
              "outlinewidth": 0,
              "tickcolor": "rgb(237,237,237)",
              "ticklen": 6,
              "ticks": "inside"
             }
            },
            "marker": {
             "colorbar": {
              "outlinewidth": 0,
              "tickcolor": "rgb(237,237,237)",
              "ticklen": 6,
              "ticks": "inside"
             }
            },
            "type": "scatter3d"
           }
          ],
          "scattercarpet": [
           {
            "marker": {
             "colorbar": {
              "outlinewidth": 0,
              "tickcolor": "rgb(237,237,237)",
              "ticklen": 6,
              "ticks": "inside"
             }
            },
            "type": "scattercarpet"
           }
          ],
          "scattergeo": [
           {
            "marker": {
             "colorbar": {
              "outlinewidth": 0,
              "tickcolor": "rgb(237,237,237)",
              "ticklen": 6,
              "ticks": "inside"
             }
            },
            "type": "scattergeo"
           }
          ],
          "scattergl": [
           {
            "marker": {
             "colorbar": {
              "outlinewidth": 0,
              "tickcolor": "rgb(237,237,237)",
              "ticklen": 6,
              "ticks": "inside"
             }
            },
            "type": "scattergl"
           }
          ],
          "scattermapbox": [
           {
            "marker": {
             "colorbar": {
              "outlinewidth": 0,
              "tickcolor": "rgb(237,237,237)",
              "ticklen": 6,
              "ticks": "inside"
             }
            },
            "type": "scattermapbox"
           }
          ],
          "scatterpolar": [
           {
            "marker": {
             "colorbar": {
              "outlinewidth": 0,
              "tickcolor": "rgb(237,237,237)",
              "ticklen": 6,
              "ticks": "inside"
             }
            },
            "type": "scatterpolar"
           }
          ],
          "scatterpolargl": [
           {
            "marker": {
             "colorbar": {
              "outlinewidth": 0,
              "tickcolor": "rgb(237,237,237)",
              "ticklen": 6,
              "ticks": "inside"
             }
            },
            "type": "scatterpolargl"
           }
          ],
          "scatterternary": [
           {
            "marker": {
             "colorbar": {
              "outlinewidth": 0,
              "tickcolor": "rgb(237,237,237)",
              "ticklen": 6,
              "ticks": "inside"
             }
            },
            "type": "scatterternary"
           }
          ],
          "surface": [
           {
            "colorbar": {
             "outlinewidth": 0,
             "tickcolor": "rgb(237,237,237)",
             "ticklen": 6,
             "ticks": "inside"
            },
            "colorscale": [
             [
              0,
              "rgb(20,44,66)"
             ],
             [
              1,
              "rgb(90,179,244)"
             ]
            ],
            "type": "surface"
           }
          ],
          "table": [
           {
            "cells": {
             "fill": {
              "color": "rgb(237,237,237)"
             },
             "line": {
              "color": "white"
             }
            },
            "header": {
             "fill": {
              "color": "rgb(217,217,217)"
             },
             "line": {
              "color": "white"
             }
            },
            "type": "table"
           }
          ]
         },
         "layout": {
          "annotationdefaults": {
           "arrowhead": 0,
           "arrowwidth": 1
          },
          "autotypenumbers": "strict",
          "coloraxis": {
           "colorbar": {
            "outlinewidth": 0,
            "tickcolor": "rgb(237,237,237)",
            "ticklen": 6,
            "ticks": "inside"
           }
          },
          "colorscale": {
           "sequential": [
            [
             0,
             "rgb(20,44,66)"
            ],
            [
             1,
             "rgb(90,179,244)"
            ]
           ],
           "sequentialminus": [
            [
             0,
             "rgb(20,44,66)"
            ],
            [
             1,
             "rgb(90,179,244)"
            ]
           ]
          },
          "colorway": [
           "#F8766D",
           "#A3A500",
           "#00BF7D",
           "#00B0F6",
           "#E76BF3"
          ],
          "font": {
           "color": "rgb(51,51,51)"
          },
          "geo": {
           "bgcolor": "white",
           "lakecolor": "white",
           "landcolor": "rgb(237,237,237)",
           "showlakes": true,
           "showland": true,
           "subunitcolor": "white"
          },
          "hoverlabel": {
           "align": "left"
          },
          "hovermode": "closest",
          "paper_bgcolor": "white",
          "plot_bgcolor": "rgb(237,237,237)",
          "polar": {
           "angularaxis": {
            "gridcolor": "white",
            "linecolor": "white",
            "showgrid": true,
            "tickcolor": "rgb(51,51,51)",
            "ticks": "outside"
           },
           "bgcolor": "rgb(237,237,237)",
           "radialaxis": {
            "gridcolor": "white",
            "linecolor": "white",
            "showgrid": true,
            "tickcolor": "rgb(51,51,51)",
            "ticks": "outside"
           }
          },
          "scene": {
           "xaxis": {
            "backgroundcolor": "rgb(237,237,237)",
            "gridcolor": "white",
            "gridwidth": 2,
            "linecolor": "white",
            "showbackground": true,
            "showgrid": true,
            "tickcolor": "rgb(51,51,51)",
            "ticks": "outside",
            "zerolinecolor": "white"
           },
           "yaxis": {
            "backgroundcolor": "rgb(237,237,237)",
            "gridcolor": "white",
            "gridwidth": 2,
            "linecolor": "white",
            "showbackground": true,
            "showgrid": true,
            "tickcolor": "rgb(51,51,51)",
            "ticks": "outside",
            "zerolinecolor": "white"
           },
           "zaxis": {
            "backgroundcolor": "rgb(237,237,237)",
            "gridcolor": "white",
            "gridwidth": 2,
            "linecolor": "white",
            "showbackground": true,
            "showgrid": true,
            "tickcolor": "rgb(51,51,51)",
            "ticks": "outside",
            "zerolinecolor": "white"
           }
          },
          "shapedefaults": {
           "fillcolor": "black",
           "line": {
            "width": 0
           },
           "opacity": 0.3
          },
          "ternary": {
           "aaxis": {
            "gridcolor": "white",
            "linecolor": "white",
            "showgrid": true,
            "tickcolor": "rgb(51,51,51)",
            "ticks": "outside"
           },
           "baxis": {
            "gridcolor": "white",
            "linecolor": "white",
            "showgrid": true,
            "tickcolor": "rgb(51,51,51)",
            "ticks": "outside"
           },
           "bgcolor": "rgb(237,237,237)",
           "caxis": {
            "gridcolor": "white",
            "linecolor": "white",
            "showgrid": true,
            "tickcolor": "rgb(51,51,51)",
            "ticks": "outside"
           }
          },
          "xaxis": {
           "automargin": true,
           "gridcolor": "white",
           "linecolor": "white",
           "showgrid": true,
           "tickcolor": "rgb(51,51,51)",
           "ticks": "outside",
           "title": {
            "standoff": 15
           },
           "zerolinecolor": "white"
          },
          "yaxis": {
           "automargin": true,
           "gridcolor": "white",
           "linecolor": "white",
           "showgrid": true,
           "tickcolor": "rgb(51,51,51)",
           "ticks": "outside",
           "title": {
            "standoff": 15
           },
           "zerolinecolor": "white"
          }
         }
        },
        "title": {
         "text": "Daily Sales by Quantity"
        },
        "xaxis": {
         "title": {
          "text": "Date"
         }
        },
        "yaxis": {
         "title": {
          "text": "Total Quantity"
         }
        }
       }
      },
      "text/html": [
       "<div>                            <div id=\"d4bec047-b2d5-4947-9b9c-b17b0ffe09a3\" class=\"plotly-graph-div\" style=\"height:400px; width:100%;\"></div>            <script type=\"text/javascript\">                require([\"plotly\"], function(Plotly) {                    window.PLOTLYENV=window.PLOTLYENV || {};                                    if (document.getElementById(\"d4bec047-b2d5-4947-9b9c-b17b0ffe09a3\")) {                    Plotly.newPlot(                        \"d4bec047-b2d5-4947-9b9c-b17b0ffe09a3\",                        [{\"line\": {\"color\": \"darkturquoise\"}, \"type\": \"scatter\", \"x\": [\"2011-06-12T00:00:00\", \"2011-06-13T00:00:00\", \"2011-06-14T00:00:00\", \"2011-06-15T00:00:00\", \"2011-06-16T00:00:00\", \"2011-06-17T00:00:00\", \"2011-06-19T00:00:00\", \"2011-06-20T00:00:00\", \"2011-06-21T00:00:00\", \"2011-06-22T00:00:00\", \"2011-06-23T00:00:00\", \"2011-06-24T00:00:00\", \"2011-06-27T00:00:00\", \"2011-06-28T00:00:00\", \"2011-06-30T00:00:00\", \"2011-07-01T00:00:00\", \"2011-07-04T00:00:00\", \"2011-07-05T00:00:00\", \"2011-07-06T00:00:00\", \"2011-07-07T00:00:00\", \"2011-07-08T00:00:00\", \"2011-07-10T00:00:00\", \"2011-07-11T00:00:00\", \"2011-07-12T00:00:00\", \"2011-07-13T00:00:00\", \"2011-07-14T00:00:00\", \"2011-07-15T00:00:00\", \"2011-07-17T00:00:00\", \"2011-07-18T00:00:00\", \"2011-07-19T00:00:00\", \"2011-07-20T00:00:00\", \"2011-07-21T00:00:00\", \"2011-07-22T00:00:00\", \"2011-07-24T00:00:00\", \"2011-07-25T00:00:00\", \"2011-07-26T00:00:00\", \"2011-07-27T00:00:00\", \"2011-07-28T00:00:00\", \"2011-07-29T00:00:00\", \"2011-07-31T00:00:00\", \"2011-08-01T00:00:00\", \"2011-08-02T00:00:00\", \"2011-08-03T00:00:00\", \"2011-08-04T00:00:00\", \"2011-08-05T00:00:00\", \"2011-08-08T00:00:00\", \"2011-08-10T00:00:00\", \"2011-08-11T00:00:00\", \"2011-08-12T00:00:00\", \"2011-08-14T00:00:00\", \"2011-08-15T00:00:00\", \"2011-08-16T00:00:00\", \"2011-08-17T00:00:00\", \"2011-08-18T00:00:00\", \"2011-08-19T00:00:00\", \"2011-08-21T00:00:00\", \"2011-08-22T00:00:00\", \"2011-08-23T00:00:00\", \"2011-08-24T00:00:00\", \"2011-08-25T00:00:00\", \"2011-08-26T00:00:00\", \"2011-08-28T00:00:00\", \"2011-08-31T00:00:00\", \"2011-09-01T00:00:00\", \"2011-09-02T00:00:00\", \"2011-09-04T00:00:00\", \"2011-09-05T00:00:00\", \"2011-09-06T00:00:00\", \"2011-09-07T00:00:00\", \"2011-09-08T00:00:00\", \"2011-09-09T00:00:00\", \"2011-09-11T00:00:00\", \"2011-09-12T00:00:00\", \"2011-09-13T00:00:00\", \"2011-09-14T00:00:00\", \"2011-09-15T00:00:00\", \"2011-09-16T00:00:00\", \"2011-09-18T00:00:00\", \"2011-09-19T00:00:00\", \"2011-09-20T00:00:00\", \"2011-09-21T00:00:00\", \"2011-09-22T00:00:00\", \"2011-09-23T00:00:00\", \"2011-09-25T00:00:00\", \"2011-09-26T00:00:00\", \"2011-09-27T00:00:00\", \"2011-09-28T00:00:00\", \"2011-09-29T00:00:00\", \"2011-09-30T00:00:00\", \"2011-10-02T00:00:00\", \"2011-10-03T00:00:00\", \"2011-10-04T00:00:00\", \"2011-10-05T00:00:00\", \"2011-10-06T00:00:00\", \"2011-10-07T00:00:00\", \"2011-10-09T00:00:00\", \"2011-10-10T00:00:00\", \"2011-10-11T00:00:00\", \"2011-10-12T00:00:00\", \"2011-10-13T00:00:00\", \"2011-10-14T00:00:00\", \"2011-10-16T00:00:00\", \"2011-10-17T00:00:00\", \"2011-10-18T00:00:00\", \"2011-10-19T00:00:00\", \"2011-10-20T00:00:00\", \"2011-10-21T00:00:00\", \"2011-10-23T00:00:00\", \"2011-10-24T00:00:00\", \"2011-10-25T00:00:00\", \"2011-10-26T00:00:00\", \"2011-10-27T00:00:00\", \"2011-10-28T00:00:00\", \"2011-10-30T00:00:00\", \"2011-10-31T00:00:00\", \"2011-11-01T00:00:00\", \"2011-11-02T00:00:00\", \"2011-11-03T00:00:00\", \"2011-11-04T00:00:00\", \"2011-11-06T00:00:00\", \"2011-11-07T00:00:00\", \"2011-11-08T00:00:00\", \"2011-11-09T00:00:00\", \"2011-11-10T00:00:00\", \"2011-11-11T00:00:00\", \"2011-11-13T00:00:00\", \"2011-11-14T00:00:00\", \"2011-11-15T00:00:00\", \"2011-11-16T00:00:00\", \"2011-11-17T00:00:00\", \"2011-11-18T00:00:00\", \"2011-11-20T00:00:00\", \"2011-11-21T00:00:00\", \"2011-11-22T00:00:00\", \"2011-11-23T00:00:00\", \"2011-11-24T00:00:00\", \"2011-11-25T00:00:00\", \"2011-11-27T00:00:00\", \"2011-11-28T00:00:00\", \"2011-11-29T00:00:00\", \"2011-11-30T00:00:00\", \"2011-12-01T00:00:00\", \"2011-12-02T00:00:00\", \"2011-12-04T00:00:00\", \"2011-12-05T00:00:00\", \"2011-12-06T00:00:00\", \"2011-12-07T00:00:00\", \"2011-12-08T00:00:00\", \"2011-12-09T00:00:00\"], \"y\": [9, 15, 14, 103, 9, 82, 54, 12, 47, 1, 71, 124, 46, 55, 264, 26, 45, 212, 16, 48, 236, 29, 12, 13, 26, 70, 4, 14, 42, 61, 67, 168, 100, 134, 28, 24, 72, 16, 84, 204, 21, 36, 14, 2030, 61, 249, 600, 660, 60, 24, 100, 24, 194, 38, 98, 55, 36, 49, 49, 34, 612, 18, 124, 101, 524, 24, 102, 12, 74, 64, 118, 102, 59, 24, 100, 33, 108, 40, 174, 164, 124, 25, 50, 12, 27, 70, 124, 284, 1085, 39, 75, 114, 44, 386, 30, 126, 142, 78, 198, 133, 238, 6, 530, 258, 246, 15, 60, 12, 229, 234, 43, 44, 2052, 137, 175, 286, 157, 17, 156, 294, 192, 77, 1075, 339, 87, 114, 618, 166, 294, 84, 351, 218, 326, 1051, 497, 530, 227, 44, 231, 668, 359, 188, 1270, 49, 272, 233, 368, 2854, 128]}],                        {\"height\": 400, \"template\": {\"data\": {\"bar\": [{\"error_x\": {\"color\": \"rgb(51,51,51)\"}, \"error_y\": {\"color\": \"rgb(51,51,51)\"}, \"marker\": {\"line\": {\"color\": \"rgb(237,237,237)\", \"width\": 0.5}}, \"type\": \"bar\"}], \"barpolar\": [{\"marker\": {\"line\": {\"color\": \"rgb(237,237,237)\", \"width\": 0.5}}, \"type\": \"barpolar\"}], \"carpet\": [{\"aaxis\": {\"endlinecolor\": \"rgb(51,51,51)\", \"gridcolor\": \"white\", \"linecolor\": \"white\", \"minorgridcolor\": \"white\", \"startlinecolor\": \"rgb(51,51,51)\"}, \"baxis\": {\"endlinecolor\": \"rgb(51,51,51)\", \"gridcolor\": \"white\", \"linecolor\": \"white\", \"minorgridcolor\": \"white\", \"startlinecolor\": \"rgb(51,51,51)\"}, \"type\": \"carpet\"}], \"choropleth\": [{\"colorbar\": {\"outlinewidth\": 0, \"tickcolor\": \"rgb(237,237,237)\", \"ticklen\": 6, \"ticks\": \"inside\"}, \"type\": \"choropleth\"}], \"contour\": [{\"colorbar\": {\"outlinewidth\": 0, \"tickcolor\": \"rgb(237,237,237)\", \"ticklen\": 6, \"ticks\": \"inside\"}, \"colorscale\": [[0, \"rgb(20,44,66)\"], [1, \"rgb(90,179,244)\"]], \"type\": \"contour\"}], \"contourcarpet\": [{\"colorbar\": {\"outlinewidth\": 0, \"tickcolor\": \"rgb(237,237,237)\", \"ticklen\": 6, \"ticks\": \"inside\"}, \"type\": \"contourcarpet\"}], \"heatmap\": [{\"colorbar\": {\"outlinewidth\": 0, \"tickcolor\": \"rgb(237,237,237)\", \"ticklen\": 6, \"ticks\": \"inside\"}, \"colorscale\": [[0, \"rgb(20,44,66)\"], [1, \"rgb(90,179,244)\"]], \"type\": \"heatmap\"}], \"heatmapgl\": [{\"colorbar\": {\"outlinewidth\": 0, \"tickcolor\": \"rgb(237,237,237)\", \"ticklen\": 6, \"ticks\": \"inside\"}, \"colorscale\": [[0, \"rgb(20,44,66)\"], [1, \"rgb(90,179,244)\"]], \"type\": \"heatmapgl\"}], \"histogram\": [{\"marker\": {\"colorbar\": {\"outlinewidth\": 0, \"tickcolor\": \"rgb(237,237,237)\", \"ticklen\": 6, \"ticks\": \"inside\"}}, \"type\": \"histogram\"}], \"histogram2d\": [{\"colorbar\": {\"outlinewidth\": 0, \"tickcolor\": \"rgb(237,237,237)\", \"ticklen\": 6, \"ticks\": \"inside\"}, \"colorscale\": [[0, \"rgb(20,44,66)\"], [1, \"rgb(90,179,244)\"]], \"type\": \"histogram2d\"}], \"histogram2dcontour\": [{\"colorbar\": {\"outlinewidth\": 0, \"tickcolor\": \"rgb(237,237,237)\", \"ticklen\": 6, \"ticks\": \"inside\"}, \"colorscale\": [[0, \"rgb(20,44,66)\"], [1, \"rgb(90,179,244)\"]], \"type\": \"histogram2dcontour\"}], \"mesh3d\": [{\"colorbar\": {\"outlinewidth\": 0, \"tickcolor\": \"rgb(237,237,237)\", \"ticklen\": 6, \"ticks\": \"inside\"}, \"type\": \"mesh3d\"}], \"parcoords\": [{\"line\": {\"colorbar\": {\"outlinewidth\": 0, \"tickcolor\": \"rgb(237,237,237)\", \"ticklen\": 6, \"ticks\": \"inside\"}}, \"type\": \"parcoords\"}], \"pie\": [{\"automargin\": true, \"type\": \"pie\"}], \"scatter\": [{\"marker\": {\"colorbar\": {\"outlinewidth\": 0, \"tickcolor\": \"rgb(237,237,237)\", \"ticklen\": 6, \"ticks\": \"inside\"}}, \"type\": \"scatter\"}], \"scatter3d\": [{\"line\": {\"colorbar\": {\"outlinewidth\": 0, \"tickcolor\": \"rgb(237,237,237)\", \"ticklen\": 6, \"ticks\": \"inside\"}}, \"marker\": {\"colorbar\": {\"outlinewidth\": 0, \"tickcolor\": \"rgb(237,237,237)\", \"ticklen\": 6, \"ticks\": \"inside\"}}, \"type\": \"scatter3d\"}], \"scattercarpet\": [{\"marker\": {\"colorbar\": {\"outlinewidth\": 0, \"tickcolor\": \"rgb(237,237,237)\", \"ticklen\": 6, \"ticks\": \"inside\"}}, \"type\": \"scattercarpet\"}], \"scattergeo\": [{\"marker\": {\"colorbar\": {\"outlinewidth\": 0, \"tickcolor\": \"rgb(237,237,237)\", \"ticklen\": 6, \"ticks\": \"inside\"}}, \"type\": \"scattergeo\"}], \"scattergl\": [{\"marker\": {\"colorbar\": {\"outlinewidth\": 0, \"tickcolor\": \"rgb(237,237,237)\", \"ticklen\": 6, \"ticks\": \"inside\"}}, \"type\": \"scattergl\"}], \"scattermapbox\": [{\"marker\": {\"colorbar\": {\"outlinewidth\": 0, \"tickcolor\": \"rgb(237,237,237)\", \"ticklen\": 6, \"ticks\": \"inside\"}}, \"type\": \"scattermapbox\"}], \"scatterpolar\": [{\"marker\": {\"colorbar\": {\"outlinewidth\": 0, \"tickcolor\": \"rgb(237,237,237)\", \"ticklen\": 6, \"ticks\": \"inside\"}}, \"type\": \"scatterpolar\"}], \"scatterpolargl\": [{\"marker\": {\"colorbar\": {\"outlinewidth\": 0, \"tickcolor\": \"rgb(237,237,237)\", \"ticklen\": 6, \"ticks\": \"inside\"}}, \"type\": \"scatterpolargl\"}], \"scatterternary\": [{\"marker\": {\"colorbar\": {\"outlinewidth\": 0, \"tickcolor\": \"rgb(237,237,237)\", \"ticklen\": 6, \"ticks\": \"inside\"}}, \"type\": \"scatterternary\"}], \"surface\": [{\"colorbar\": {\"outlinewidth\": 0, \"tickcolor\": \"rgb(237,237,237)\", \"ticklen\": 6, \"ticks\": \"inside\"}, \"colorscale\": [[0, \"rgb(20,44,66)\"], [1, \"rgb(90,179,244)\"]], \"type\": \"surface\"}], \"table\": [{\"cells\": {\"fill\": {\"color\": \"rgb(237,237,237)\"}, \"line\": {\"color\": \"white\"}}, \"header\": {\"fill\": {\"color\": \"rgb(217,217,217)\"}, \"line\": {\"color\": \"white\"}}, \"type\": \"table\"}]}, \"layout\": {\"annotationdefaults\": {\"arrowhead\": 0, \"arrowwidth\": 1}, \"autotypenumbers\": \"strict\", \"coloraxis\": {\"colorbar\": {\"outlinewidth\": 0, \"tickcolor\": \"rgb(237,237,237)\", \"ticklen\": 6, \"ticks\": \"inside\"}}, \"colorscale\": {\"sequential\": [[0, \"rgb(20,44,66)\"], [1, \"rgb(90,179,244)\"]], \"sequentialminus\": [[0, \"rgb(20,44,66)\"], [1, \"rgb(90,179,244)\"]]}, \"colorway\": [\"#F8766D\", \"#A3A500\", \"#00BF7D\", \"#00B0F6\", \"#E76BF3\"], \"font\": {\"color\": \"rgb(51,51,51)\"}, \"geo\": {\"bgcolor\": \"white\", \"lakecolor\": \"white\", \"landcolor\": \"rgb(237,237,237)\", \"showlakes\": true, \"showland\": true, \"subunitcolor\": \"white\"}, \"hoverlabel\": {\"align\": \"left\"}, \"hovermode\": \"closest\", \"paper_bgcolor\": \"white\", \"plot_bgcolor\": \"rgb(237,237,237)\", \"polar\": {\"angularaxis\": {\"gridcolor\": \"white\", \"linecolor\": \"white\", \"showgrid\": true, \"tickcolor\": \"rgb(51,51,51)\", \"ticks\": \"outside\"}, \"bgcolor\": \"rgb(237,237,237)\", \"radialaxis\": {\"gridcolor\": \"white\", \"linecolor\": \"white\", \"showgrid\": true, \"tickcolor\": \"rgb(51,51,51)\", \"ticks\": \"outside\"}}, \"scene\": {\"xaxis\": {\"backgroundcolor\": \"rgb(237,237,237)\", \"gridcolor\": \"white\", \"gridwidth\": 2, \"linecolor\": \"white\", \"showbackground\": true, \"showgrid\": true, \"tickcolor\": \"rgb(51,51,51)\", \"ticks\": \"outside\", \"zerolinecolor\": \"white\"}, \"yaxis\": {\"backgroundcolor\": \"rgb(237,237,237)\", \"gridcolor\": \"white\", \"gridwidth\": 2, \"linecolor\": \"white\", \"showbackground\": true, \"showgrid\": true, \"tickcolor\": \"rgb(51,51,51)\", \"ticks\": \"outside\", \"zerolinecolor\": \"white\"}, \"zaxis\": {\"backgroundcolor\": \"rgb(237,237,237)\", \"gridcolor\": \"white\", \"gridwidth\": 2, \"linecolor\": \"white\", \"showbackground\": true, \"showgrid\": true, \"tickcolor\": \"rgb(51,51,51)\", \"ticks\": \"outside\", \"zerolinecolor\": \"white\"}}, \"shapedefaults\": {\"fillcolor\": \"black\", \"line\": {\"width\": 0}, \"opacity\": 0.3}, \"ternary\": {\"aaxis\": {\"gridcolor\": \"white\", \"linecolor\": \"white\", \"showgrid\": true, \"tickcolor\": \"rgb(51,51,51)\", \"ticks\": \"outside\"}, \"baxis\": {\"gridcolor\": \"white\", \"linecolor\": \"white\", \"showgrid\": true, \"tickcolor\": \"rgb(51,51,51)\", \"ticks\": \"outside\"}, \"bgcolor\": \"rgb(237,237,237)\", \"caxis\": {\"gridcolor\": \"white\", \"linecolor\": \"white\", \"showgrid\": true, \"tickcolor\": \"rgb(51,51,51)\", \"ticks\": \"outside\"}}, \"xaxis\": {\"automargin\": true, \"gridcolor\": \"white\", \"linecolor\": \"white\", \"showgrid\": true, \"tickcolor\": \"rgb(51,51,51)\", \"ticks\": \"outside\", \"title\": {\"standoff\": 15}, \"zerolinecolor\": \"white\"}, \"yaxis\": {\"automargin\": true, \"gridcolor\": \"white\", \"linecolor\": \"white\", \"showgrid\": true, \"tickcolor\": \"rgb(51,51,51)\", \"ticks\": \"outside\", \"title\": {\"standoff\": 15}, \"zerolinecolor\": \"white\"}}}, \"title\": {\"text\": \"Daily Sales by Quantity\"}, \"xaxis\": {\"title\": {\"text\": \"Date\"}}, \"yaxis\": {\"title\": {\"text\": \"Total Quantity\"}}},                        {\"responsive\": true}                    ).then(function(){\n",
       "                            \n",
       "var gd = document.getElementById('d4bec047-b2d5-4947-9b9c-b17b0ffe09a3');\n",
       "var x = new MutationObserver(function (mutations, observer) {{\n",
       "        var display = window.getComputedStyle(gd).display;\n",
       "        if (!display || display === 'none') {{\n",
       "            console.log([gd, 'removed!']);\n",
       "            Plotly.purge(gd);\n",
       "            observer.disconnect();\n",
       "        }}\n",
       "}});\n",
       "\n",
       "// Listen for the removal of the full notebook cells\n",
       "var notebookContainer = gd.closest('#notebook-container');\n",
       "if (notebookContainer) {{\n",
       "    x.observe(notebookContainer, {childList: true});\n",
       "}}\n",
       "\n",
       "// Listen for the clearing of the current output cell\n",
       "var outputEl = gd.closest('.output');\n",
       "if (outputEl) {{\n",
       "    x.observe(outputEl, {childList: true});\n",
       "}}\n",
       "\n",
       "                        })                };                });            </script>        </div>"
      ]
     },
     "metadata": {},
     "output_type": "display_data"
    }
   ],
   "source": [
    "fig = go.Figure(data=[go.Scatter(x=df1.Date, y=df1.Quantity, line_color='darkturquoise')])\n",
    "fig.update_layout(xaxis_title=\"Date\", \n",
    "                  yaxis_title=\"Total Quantity\", \n",
    "                  title='Daily Sales by Quantity',\n",
    "                  height=400,\n",
    "                 template='ggplot2')\n",
    "fig.show()"
   ]
  },
  {
   "cell_type": "markdown",
   "metadata": {},
   "source": [
    "## ARIMA"
   ]
  },
  {
   "cell_type": "code",
   "execution_count": 93,
   "metadata": {},
   "outputs": [
    {
     "data": {
      "text/html": [
       "<div>\n",
       "<style scoped>\n",
       "    .dataframe tbody tr th:only-of-type {\n",
       "        vertical-align: middle;\n",
       "    }\n",
       "\n",
       "    .dataframe tbody tr th {\n",
       "        vertical-align: top;\n",
       "    }\n",
       "\n",
       "    .dataframe thead th {\n",
       "        text-align: right;\n",
       "    }\n",
       "</style>\n",
       "<table border=\"1\" class=\"dataframe\">\n",
       "  <thead>\n",
       "    <tr style=\"text-align: right;\">\n",
       "      <th></th>\n",
       "      <th>Quantity</th>\n",
       "    </tr>\n",
       "    <tr>\n",
       "      <th>Date</th>\n",
       "      <th></th>\n",
       "    </tr>\n",
       "  </thead>\n",
       "  <tbody>\n",
       "    <tr>\n",
       "      <th>2011-06-12</th>\n",
       "      <td>9</td>\n",
       "    </tr>\n",
       "    <tr>\n",
       "      <th>2011-06-13</th>\n",
       "      <td>15</td>\n",
       "    </tr>\n",
       "    <tr>\n",
       "      <th>2011-06-14</th>\n",
       "      <td>14</td>\n",
       "    </tr>\n",
       "    <tr>\n",
       "      <th>2011-06-15</th>\n",
       "      <td>103</td>\n",
       "    </tr>\n",
       "    <tr>\n",
       "      <th>2011-06-16</th>\n",
       "      <td>9</td>\n",
       "    </tr>\n",
       "  </tbody>\n",
       "</table>\n",
       "</div>"
      ],
      "text/plain": [
       "            Quantity\n",
       "Date                \n",
       "2011-06-12         9\n",
       "2011-06-13        15\n",
       "2011-06-14        14\n",
       "2011-06-15       103\n",
       "2011-06-16         9"
      ]
     },
     "execution_count": 93,
     "metadata": {},
     "output_type": "execute_result"
    }
   ],
   "source": [
    "df1.set_index('Date', inplace = True)\n",
    "df1.head()"
   ]
  },
  {
   "cell_type": "code",
   "execution_count": 8,
   "metadata": {},
   "outputs": [
    {
     "data": {
      "text/plain": [
       "(0.01, False)"
      ]
     },
     "execution_count": 8,
     "metadata": {},
     "output_type": "execute_result"
    }
   ],
   "source": [
    "#Is the data stationary?\n",
    "from pmdarima.arima import ADFTest\n",
    "\n",
    "adf_test = ADFTest(alpha = 0.05)\n",
    "adf_test.should_diff(df1)\n"
   ]
  },
  {
   "cell_type": "code",
   "execution_count": 9,
   "metadata": {},
   "outputs": [
    {
     "name": "stdout",
     "output_type": "stream",
     "text": [
      "pvalue =  1.6080466923379071e-21  if above 0.05, data is not stationary\n"
     ]
    }
   ],
   "source": [
    "#Dickey-Fuller test\n",
    "from statsmodels.tsa.stattools import adfuller\n",
    "adf, pvalue, usedlag_, nobs_, critical_values_, icbest_ = adfuller(df1)\n",
    "print(\"pvalue = \", pvalue, \" if above 0.05, data is not stationary\")"
   ]
  },
  {
   "cell_type": "code",
   "execution_count": 10,
   "metadata": {},
   "outputs": [
    {
     "name": "stdout",
     "output_type": "stream",
     "text": [
      "Data is stationary\n"
     ]
    }
   ],
   "source": [
    "if pvalue > 0.05:\n",
    "    print(\"Data is not stationary\")\n",
    "else:\n",
    "    print(\"Data is stationary\")"
   ]
  },
  {
   "cell_type": "code",
   "execution_count": 36,
   "metadata": {},
   "outputs": [
    {
     "name": "stdout",
     "output_type": "stream",
     "text": [
      "Performing stepwise search to minimize aic\n",
      " ARIMA(1,1,1)(0,1,0)[12]             : AIC=inf, Time=0.11 sec\n",
      " ARIMA(0,1,0)(0,1,0)[12]             : AIC=2160.757, Time=0.01 sec\n",
      " ARIMA(1,1,0)(1,1,0)[12]             : AIC=2083.966, Time=0.17 sec\n",
      " ARIMA(0,1,1)(0,1,1)[12]             : AIC=inf, Time=0.23 sec\n",
      " ARIMA(1,1,0)(0,1,0)[12]             : AIC=2133.579, Time=0.02 sec\n",
      " ARIMA(1,1,0)(2,1,0)[12]             : AIC=2083.552, Time=0.30 sec\n",
      " ARIMA(1,1,0)(3,1,0)[12]             : AIC=2080.553, Time=0.63 sec\n",
      " ARIMA(1,1,0)(4,1,0)[12]             : AIC=2079.284, Time=1.57 sec\n",
      " ARIMA(1,1,0)(5,1,0)[12]             : AIC=2080.061, Time=1.97 sec\n",
      " ARIMA(1,1,0)(4,1,1)[12]             : AIC=inf, Time=3.52 sec\n",
      " ARIMA(1,1,0)(3,1,1)[12]             : AIC=inf, Time=1.66 sec\n",
      " ARIMA(1,1,0)(5,1,1)[12]             : AIC=inf, Time=5.68 sec\n",
      " ARIMA(0,1,0)(4,1,0)[12]             : AIC=2125.562, Time=1.24 sec\n",
      " ARIMA(2,1,0)(4,1,0)[12]             : AIC=2060.947, Time=1.66 sec\n",
      " ARIMA(2,1,0)(3,1,0)[12]             : AIC=2062.962, Time=0.81 sec\n",
      " ARIMA(2,1,0)(5,1,0)[12]             : AIC=2062.944, Time=2.68 sec\n",
      " ARIMA(2,1,0)(4,1,1)[12]             : AIC=2062.943, Time=3.62 sec\n",
      " ARIMA(2,1,0)(3,1,1)[12]             : AIC=inf, Time=2.91 sec\n",
      " ARIMA(2,1,0)(5,1,1)[12]             : AIC=inf, Time=4.25 sec\n",
      " ARIMA(3,1,0)(4,1,0)[12]             : AIC=2051.230, Time=1.92 sec\n",
      " ARIMA(3,1,0)(3,1,0)[12]             : AIC=2054.304, Time=0.92 sec\n",
      " ARIMA(3,1,0)(5,1,0)[12]             : AIC=2053.229, Time=3.25 sec\n",
      " ARIMA(3,1,0)(4,1,1)[12]             : AIC=2052.565, Time=4.66 sec\n",
      " ARIMA(3,1,0)(3,1,1)[12]             : AIC=inf, Time=2.37 sec\n",
      " ARIMA(3,1,0)(5,1,1)[12]             : AIC=inf, Time=8.52 sec\n",
      " ARIMA(4,1,0)(4,1,0)[12]             : AIC=2045.161, Time=2.45 sec\n",
      " ARIMA(4,1,0)(3,1,0)[12]             : AIC=2046.776, Time=1.46 sec\n",
      " ARIMA(4,1,0)(5,1,0)[12]             : AIC=2047.058, Time=6.85 sec\n",
      " ARIMA(4,1,0)(4,1,1)[12]             : AIC=inf, Time=15.37 sec\n",
      " ARIMA(4,1,0)(3,1,1)[12]             : AIC=inf, Time=4.85 sec\n",
      " ARIMA(4,1,0)(5,1,1)[12]             : AIC=inf, Time=6.44 sec\n",
      " ARIMA(5,1,0)(4,1,0)[12]             : AIC=2046.921, Time=2.78 sec\n",
      " ARIMA(4,1,1)(4,1,0)[12]             : AIC=2034.718, Time=5.18 sec\n",
      " ARIMA(4,1,1)(3,1,0)[12]             : AIC=2035.263, Time=3.24 sec\n",
      " ARIMA(4,1,1)(5,1,0)[12]             : AIC=2036.658, Time=10.05 sec\n",
      " ARIMA(4,1,1)(4,1,1)[12]             : AIC=2036.187, Time=8.44 sec\n",
      " ARIMA(4,1,1)(3,1,1)[12]             : AIC=inf, Time=5.09 sec\n",
      " ARIMA(4,1,1)(5,1,1)[12]             : AIC=inf, Time=11.37 sec\n",
      " ARIMA(3,1,1)(4,1,0)[12]             : AIC=inf, Time=5.11 sec\n",
      " ARIMA(5,1,1)(4,1,0)[12]             : AIC=2036.285, Time=6.31 sec\n",
      " ARIMA(4,1,2)(4,1,0)[12]             : AIC=inf, Time=5.56 sec\n",
      " ARIMA(3,1,2)(4,1,0)[12]             : AIC=inf, Time=7.68 sec\n",
      " ARIMA(5,1,2)(4,1,0)[12]             : AIC=2038.646, Time=7.40 sec\n",
      " ARIMA(4,1,1)(4,1,0)[12] intercept   : AIC=2037.353, Time=9.04 sec\n",
      "\n",
      "Best model:  ARIMA(4,1,1)(4,1,0)[12]          \n",
      "Total fit time: 179.381 seconds\n"
     ]
    }
   ],
   "source": [
    "from pmdarima.arima import auto_arima\n",
    "# Autoarima gives us bet model suited for the data\n",
    "# p - number of autoregressive terms (AR)\n",
    "# q - Number of moving avergae terms (MA)\n",
    "# d - number of non-seasonal differences\n",
    "# p, d, q represent non-seasonal components\n",
    "# P, D, Q represent seasonal components\n",
    "\n",
    "arima_model = auto_arima(df1['Quantity'], start_p = 1, d=1, start_q = 1, \n",
    "                          max_p = 5, max_q = 5, max_d=5, m = 12, \n",
    "                          start_P = 0, D=1, start_Q=0, max_P=5, max_D=5, max_Q=5,\n",
    "                          seasonal = True, \n",
    "                          trace = True, \n",
    "                          error_action ='ignore',   \n",
    "                          suppress_warnings = True,  \n",
    "                          stepwise = True, n_fits=50)  "
   ]
  },
  {
   "cell_type": "code",
   "execution_count": 37,
   "metadata": {
    "scrolled": true
   },
   "outputs": [
    {
     "name": "stdout",
     "output_type": "stream",
     "text": [
      "                                      SARIMAX Results                                      \n",
      "===========================================================================================\n",
      "Dep. Variable:                                   y   No. Observations:                  149\n",
      "Model:             SARIMAX(4, 1, 1)x(4, 1, [], 12)   Log Likelihood               -1007.359\n",
      "Date:                             Tue, 23 Mar 2021   AIC                           2034.718\n",
      "Time:                                     21:08:10   BIC                           2063.844\n",
      "Sample:                                          0   HQIC                          2046.554\n",
      "                                             - 149                                         \n",
      "Covariance Type:                               opg                                         \n",
      "==============================================================================\n",
      "                 coef    std err          z      P>|z|      [0.025      0.975]\n",
      "------------------------------------------------------------------------------\n",
      "ar.L1         -0.1435      0.165     -0.871      0.384      -0.467       0.180\n",
      "ar.L2         -0.1108      0.175     -0.634      0.526      -0.453       0.232\n",
      "ar.L3         -0.0065      0.153     -0.042      0.966      -0.306       0.293\n",
      "ar.L4          0.0193      0.132      0.146      0.884      -0.239       0.277\n",
      "ma.L1         -0.9338      0.068    -13.663      0.000      -1.068      -0.800\n",
      "ar.S.L12      -0.7535      0.098     -7.719      0.000      -0.945      -0.562\n",
      "ar.S.L24      -0.4273      0.122     -3.496      0.000      -0.667      -0.188\n",
      "ar.S.L36      -0.3987      0.169     -2.365      0.018      -0.729      -0.068\n",
      "ar.S.L48      -0.2067      0.194     -1.063      0.288      -0.588       0.174\n",
      "sigma2      1.476e+05   1.11e+04     13.272      0.000    1.26e+05    1.69e+05\n",
      "===================================================================================\n",
      "Ljung-Box (L1) (Q):                   0.01   Jarque-Bera (JB):              1208.08\n",
      "Prob(Q):                              0.91   Prob(JB):                         0.00\n",
      "Heteroskedasticity (H):               2.55   Skew:                             2.87\n",
      "Prob(H) (two-sided):                  0.00   Kurtosis:                        16.43\n",
      "===================================================================================\n",
      "\n",
      "Warnings:\n",
      "[1] Covariance matrix calculated using the outer product of gradients (complex-step).\n"
     ]
    }
   ],
   "source": [
    "print(arima_model.summary() ) "
   ]
  },
  {
   "cell_type": "code",
   "execution_count": 69,
   "metadata": {},
   "outputs": [],
   "source": [
    "#Split data into train and test\n",
    "size = int(len(df1) * 0.66)\n",
    "X_train, X_test = df1[0:size], df1[size:len(df1)]"
   ]
  },
  {
   "cell_type": "code",
   "execution_count": 70,
   "metadata": {},
   "outputs": [],
   "source": [
    "# Fit a Model: SARIMAX(4, 1, 1)x(4, 1, [], 12) on training set\n",
    "from statsmodels.tsa.statespace.sarimax import SARIMAX \n",
    "  \n",
    "model = SARIMAX(X_train['Quantity'],  \n",
    "                order = (4, 1, 1),  \n",
    "                seasonal_order =(4, 1, 0, 12))"
   ]
  },
  {
   "cell_type": "code",
   "execution_count": 71,
   "metadata": {},
   "outputs": [
    {
     "data": {
      "text/html": [
       "<table class=\"simpletable\">\n",
       "<caption>SARIMAX Results</caption>\n",
       "<tr>\n",
       "  <th>Dep. Variable:</th>              <td>Quantity</td>             <th>  No. Observations:  </th>    <td>98</td>   \n",
       "</tr>\n",
       "<tr>\n",
       "  <th>Model:</th>           <td>SARIMAX(4, 1, 1)x(4, 1, [], 12)</td> <th>  Log Likelihood     </th> <td>-600.164</td>\n",
       "</tr>\n",
       "<tr>\n",
       "  <th>Date:</th>                   <td>Tue, 23 Mar 2021</td>         <th>  AIC                </th> <td>1220.328</td>\n",
       "</tr>\n",
       "<tr>\n",
       "  <th>Time:</th>                       <td>22:07:00</td>             <th>  BIC                </th> <td>1244.755</td>\n",
       "</tr>\n",
       "<tr>\n",
       "  <th>Sample:</th>                         <td>0</td>                <th>  HQIC               </th> <td>1230.153</td>\n",
       "</tr>\n",
       "<tr>\n",
       "  <th></th>                              <td> - 98</td>              <th>                     </th>     <td> </td>   \n",
       "</tr>\n",
       "<tr>\n",
       "  <th>Covariance Type:</th>               <td>opg</td>               <th>                     </th>     <td> </td>   \n",
       "</tr>\n",
       "</table>\n",
       "<table class=\"simpletable\">\n",
       "<tr>\n",
       "      <td></td>        <th>coef</th>     <th>std err</th>      <th>z</th>      <th>P>|z|</th>  <th>[0.025</th>    <th>0.975]</th>  \n",
       "</tr>\n",
       "<tr>\n",
       "  <th>ar.L1</th>    <td>    0.0244</td> <td>    0.164</td> <td>    0.149</td> <td> 0.882</td> <td>   -0.297</td> <td>    0.346</td>\n",
       "</tr>\n",
       "<tr>\n",
       "  <th>ar.L2</th>    <td>    0.0580</td> <td>    0.226</td> <td>    0.257</td> <td> 0.797</td> <td>   -0.385</td> <td>    0.501</td>\n",
       "</tr>\n",
       "<tr>\n",
       "  <th>ar.L3</th>    <td>    0.0704</td> <td>    0.147</td> <td>    0.479</td> <td> 0.632</td> <td>   -0.217</td> <td>    0.358</td>\n",
       "</tr>\n",
       "<tr>\n",
       "  <th>ar.L4</th>    <td>    0.1861</td> <td>    0.140</td> <td>    1.329</td> <td> 0.184</td> <td>   -0.088</td> <td>    0.461</td>\n",
       "</tr>\n",
       "<tr>\n",
       "  <th>ma.L1</th>    <td>   -1.0000</td> <td>    0.136</td> <td>   -7.351</td> <td> 0.000</td> <td>   -1.267</td> <td>   -0.733</td>\n",
       "</tr>\n",
       "<tr>\n",
       "  <th>ar.S.L12</th> <td>   -0.8481</td> <td>    0.114</td> <td>   -7.461</td> <td> 0.000</td> <td>   -1.071</td> <td>   -0.625</td>\n",
       "</tr>\n",
       "<tr>\n",
       "  <th>ar.S.L24</th> <td>   -0.7612</td> <td>    0.132</td> <td>   -5.756</td> <td> 0.000</td> <td>   -1.020</td> <td>   -0.502</td>\n",
       "</tr>\n",
       "<tr>\n",
       "  <th>ar.S.L36</th> <td>   -0.7017</td> <td>    0.147</td> <td>   -4.759</td> <td> 0.000</td> <td>   -0.991</td> <td>   -0.413</td>\n",
       "</tr>\n",
       "<tr>\n",
       "  <th>ar.S.L48</th> <td>   -0.7331</td> <td>    0.057</td> <td>  -12.940</td> <td> 0.000</td> <td>   -0.844</td> <td>   -0.622</td>\n",
       "</tr>\n",
       "<tr>\n",
       "  <th>sigma2</th>   <td> 4.606e+04</td> <td> 2.95e-06</td> <td> 1.56e+10</td> <td> 0.000</td> <td> 4.61e+04</td> <td> 4.61e+04</td>\n",
       "</tr>\n",
       "</table>\n",
       "<table class=\"simpletable\">\n",
       "<tr>\n",
       "  <th>Ljung-Box (L1) (Q):</th>     <td>0.00</td>  <th>  Jarque-Bera (JB):  </th> <td>1248.22</td>\n",
       "</tr>\n",
       "<tr>\n",
       "  <th>Prob(Q):</th>                <td>0.97</td>  <th>  Prob(JB):          </th>  <td>0.00</td>  \n",
       "</tr>\n",
       "<tr>\n",
       "  <th>Heteroskedasticity (H):</th> <td>14.95</td> <th>  Skew:              </th>  <td>3.57</td>  \n",
       "</tr>\n",
       "<tr>\n",
       "  <th>Prob(H) (two-sided):</th>    <td>0.00</td>  <th>  Kurtosis:          </th>  <td>20.37</td> \n",
       "</tr>\n",
       "</table><br/><br/>Warnings:<br/>[1] Covariance matrix calculated using the outer product of gradients (complex-step).<br/>[2] Covariance matrix is singular or near-singular, with condition number 2.23e+25. Standard errors may be unstable."
      ],
      "text/plain": [
       "<class 'statsmodels.iolib.summary.Summary'>\n",
       "\"\"\"\n",
       "                                      SARIMAX Results                                      \n",
       "===========================================================================================\n",
       "Dep. Variable:                            Quantity   No. Observations:                   98\n",
       "Model:             SARIMAX(4, 1, 1)x(4, 1, [], 12)   Log Likelihood                -600.164\n",
       "Date:                             Tue, 23 Mar 2021   AIC                           1220.328\n",
       "Time:                                     22:07:00   BIC                           1244.755\n",
       "Sample:                                          0   HQIC                          1230.153\n",
       "                                              - 98                                         \n",
       "Covariance Type:                               opg                                         \n",
       "==============================================================================\n",
       "                 coef    std err          z      P>|z|      [0.025      0.975]\n",
       "------------------------------------------------------------------------------\n",
       "ar.L1          0.0244      0.164      0.149      0.882      -0.297       0.346\n",
       "ar.L2          0.0580      0.226      0.257      0.797      -0.385       0.501\n",
       "ar.L3          0.0704      0.147      0.479      0.632      -0.217       0.358\n",
       "ar.L4          0.1861      0.140      1.329      0.184      -0.088       0.461\n",
       "ma.L1         -1.0000      0.136     -7.351      0.000      -1.267      -0.733\n",
       "ar.S.L12      -0.8481      0.114     -7.461      0.000      -1.071      -0.625\n",
       "ar.S.L24      -0.7612      0.132     -5.756      0.000      -1.020      -0.502\n",
       "ar.S.L36      -0.7017      0.147     -4.759      0.000      -0.991      -0.413\n",
       "ar.S.L48      -0.7331      0.057    -12.940      0.000      -0.844      -0.622\n",
       "sigma2      4.606e+04   2.95e-06   1.56e+10      0.000    4.61e+04    4.61e+04\n",
       "===================================================================================\n",
       "Ljung-Box (L1) (Q):                   0.00   Jarque-Bera (JB):              1248.22\n",
       "Prob(Q):                              0.97   Prob(JB):                         0.00\n",
       "Heteroskedasticity (H):              14.95   Skew:                             3.57\n",
       "Prob(H) (two-sided):                  0.00   Kurtosis:                        20.37\n",
       "===================================================================================\n",
       "\n",
       "Warnings:\n",
       "[1] Covariance matrix calculated using the outer product of gradients (complex-step).\n",
       "[2] Covariance matrix is singular or near-singular, with condition number 2.23e+25. Standard errors may be unstable.\n",
       "\"\"\""
      ]
     },
     "execution_count": 71,
     "metadata": {},
     "output_type": "execute_result"
    }
   ],
   "source": [
    "result = model.fit() \n",
    "result.summary()"
   ]
  },
  {
   "cell_type": "code",
   "execution_count": 72,
   "metadata": {},
   "outputs": [],
   "source": [
    "#Train prediction\n",
    "start_index = 0\n",
    "end_index = len(X_train)-1\n",
    "train_prediction = result.predict(start_index, end_index) "
   ]
  },
  {
   "cell_type": "code",
   "execution_count": 73,
   "metadata": {},
   "outputs": [],
   "source": [
    "#Prediction\n",
    "start_index = len(X_train)\n",
    "end_index = len(df1)-1\n",
    "prediction = result.predict(start_index, end_index).rename('Forecast') "
   ]
  },
  {
   "cell_type": "code",
   "execution_count": 74,
   "metadata": {},
   "outputs": [],
   "source": [
    "forecast_df = X_test.copy()\n",
    "forecast_df['Forecast'] = prediction.values"
   ]
  },
  {
   "cell_type": "code",
   "execution_count": 75,
   "metadata": {
    "scrolled": true
   },
   "outputs": [
    {
     "data": {
      "text/plain": [
       "<AxesSubplot:xlabel='Date'>"
      ]
     },
     "execution_count": 75,
     "metadata": {},
     "output_type": "execute_result"
    },
    {
     "data": {
      "image/png": "[encoded data removed]",
      "text/plain": [
       "<Figure size 432x288 with 1 Axes>"
      ]
     },
     "metadata": {
      "needs_background": "light"
     },
     "output_type": "display_data"
    }
   ],
   "source": [
    "forecast_df.plot()"
   ]
  },
  {
   "cell_type": "code",
   "execution_count": 76,
   "metadata": {},
   "outputs": [
    {
     "name": "stdout",
     "output_type": "stream",
     "text": [
      "Train Score: 263.42 RMSE\n",
      "Test Score: 571.62 RMSE\n"
     ]
    }
   ],
   "source": [
    "import math\n",
    "from sklearn.metrics import mean_squared_error\n",
    "# calculate root mean squared error\n",
    "trainScore = math.sqrt(mean_squared_error(X_train, train_prediction))\n",
    "print('Train Score: %.2f RMSE' % (trainScore))\n",
    "testScore = math.sqrt(mean_squared_error(X_test, prediction))\n",
    "print('Test Score: %.2f RMSE' % (testScore))\n"
   ]
  },
  {
   "cell_type": "markdown",
   "metadata": {},
   "source": [
    "## Prophet"
   ]
  },
  {
   "cell_type": "code",
   "execution_count": 80,
   "metadata": {},
   "outputs": [],
   "source": [
    "df1.reset_index(inplace = True)"
   ]
  },
  {
   "cell_type": "code",
   "execution_count": 81,
   "metadata": {},
   "outputs": [],
   "source": [
    "df_split = df1[:100]"
   ]
  },
  {
   "cell_type": "code",
   "execution_count": 82,
   "metadata": {},
   "outputs": [],
   "source": [
    "df1p = pd.DataFrame()\n",
    "df1p['ds'] = df_split['Date']\n",
    "df1p['y'] = df_split['Quantity']\n",
    "df1p['ds']= to_datetime(df1p['ds'])"
   ]
  },
  {
   "cell_type": "code",
   "execution_count": 91,
   "metadata": {},
   "outputs": [
    {
     "data": {
      "text/html": [
       "<div>\n",
       "<style scoped>\n",
       "    .dataframe tbody tr th:only-of-type {\n",
       "        vertical-align: middle;\n",
       "    }\n",
       "\n",
       "    .dataframe tbody tr th {\n",
       "        vertical-align: top;\n",
       "    }\n",
       "\n",
       "    .dataframe thead th {\n",
       "        text-align: right;\n",
       "    }\n",
       "</style>\n",
       "<table border=\"1\" class=\"dataframe\">\n",
       "  <thead>\n",
       "    <tr style=\"text-align: right;\">\n",
       "      <th></th>\n",
       "      <th>ds</th>\n",
       "      <th>y</th>\n",
       "    </tr>\n",
       "  </thead>\n",
       "  <tbody>\n",
       "    <tr>\n",
       "      <th>0</th>\n",
       "      <td>2011-06-12</td>\n",
       "      <td>9</td>\n",
       "    </tr>\n",
       "    <tr>\n",
       "      <th>1</th>\n",
       "      <td>2011-06-13</td>\n",
       "      <td>15</td>\n",
       "    </tr>\n",
       "    <tr>\n",
       "      <th>2</th>\n",
       "      <td>2011-06-14</td>\n",
       "      <td>14</td>\n",
       "    </tr>\n",
       "    <tr>\n",
       "      <th>3</th>\n",
       "      <td>2011-06-15</td>\n",
       "      <td>103</td>\n",
       "    </tr>\n",
       "    <tr>\n",
       "      <th>4</th>\n",
       "      <td>2011-06-16</td>\n",
       "      <td>9</td>\n",
       "    </tr>\n",
       "  </tbody>\n",
       "</table>\n",
       "</div>"
      ],
      "text/plain": [
       "          ds    y\n",
       "0 2011-06-12    9\n",
       "1 2011-06-13   15\n",
       "2 2011-06-14   14\n",
       "3 2011-06-15  103\n",
       "4 2011-06-16    9"
      ]
     },
     "execution_count": 91,
     "metadata": {},
     "output_type": "execute_result"
    }
   ],
   "source": [
    "df1p.head()"
   ]
  },
  {
   "cell_type": "code",
   "execution_count": 84,
   "metadata": {},
   "outputs": [
    {
     "name": "stderr",
     "output_type": "stream",
     "text": [
      "INFO:fbprophet:Disabling yearly seasonality. Run prophet with yearly_seasonality=True to override this.\n",
      "INFO:fbprophet:Disabling daily seasonality. Run prophet with daily_seasonality=True to override this.\n"
     ]
    },
    {
     "data": {
      "text/plain": [
       "<fbprophet.forecaster.Prophet at 0x7fa4c51c0bb0>"
      ]
     },
     "execution_count": 84,
     "metadata": {},
     "output_type": "execute_result"
    }
   ],
   "source": [
    "m = Prophet()\n",
    "m.fit(df1p)"
   ]
  },
  {
   "cell_type": "code",
   "execution_count": 85,
   "metadata": {},
   "outputs": [],
   "source": [
    "future = m.make_future_dataframe(periods=60)\n",
    "forecast = m.predict(future)"
   ]
  },
  {
   "cell_type": "code",
   "execution_count": 86,
   "metadata": {},
   "outputs": [
    {
     "data": {
      "image/png": "[encoded data removed]",
      "text/plain": [
       "<Figure size 720x432 with 1 Axes>"
      ]
     },
     "metadata": {},
     "output_type": "display_data"
    }
   ],
   "source": [
    "figure = m.plot(forecast, xlabel='Date', ylabel='Quantity')"
   ]
  },
  {
   "cell_type": "code",
   "execution_count": 87,
   "metadata": {},
   "outputs": [
    {
     "data": {
      "image/png": "[encoded data removed]",
      "text/plain": [
       "<Figure size 648x432 with 2 Axes>"
      ]
     },
     "metadata": {},
     "output_type": "display_data"
    }
   ],
   "source": [
    "figure2 = m.plot_components(forecast)"
   ]
  },
  {
   "cell_type": "code",
   "execution_count": 90,
   "metadata": {},
   "outputs": [
    {
     "name": "stdout",
     "output_type": "stream",
     "text": [
      "r2_score = 0.09913514050892647\n",
      "MSE = 55298.01973292838\n",
      "MAE = 112.83489456796633\n",
      "RMSE 235.15530981232038\n"
     ]
    }
   ],
   "source": [
    "# Evaluate the forecast accuracy / usability based on some predefined performance metrics\n",
    "metric_df = forecast.set_index('ds')[['yhat']].join(df1p.set_index('ds').y).reset_index()\n",
    "metric_df.dropna(inplace=True)\n",
    "from sklearn.metrics import mean_squared_error, r2_score, mean_absolute_error\n",
    "print(f\"r2_score = {r2_score(metric_df.y, metric_df.yhat)}\")\n",
    "print(f\"MSE = {mean_squared_error(metric_df.y, metric_df.yhat)}\")\n",
    "print(f\"MAE = {mean_absolute_error(metric_df.y, metric_df.yhat)}\")\n",
    "print(f'RMSE {math.sqrt(mean_squared_error(metric_df.y, metric_df.yhat))}')"
   ]
  },
  {
   "cell_type": "markdown",
   "metadata": {},
   "source": [
    "## Vector Autoregression Model (VAR) for Multivariate TS"
   ]
  },
  {
   "cell_type": "markdown",
   "metadata": {},
   "source": [
    "In a VAR model, each variable is a linear function of the past values of itself and the past values of all the other variables. \n",
    "\n",
    "Unlike AR, VAR is able to understand and use the relationship between several variables. This is useful for describing the dynamic behavior of the data and also provides better forecasting results."
   ]
  },
  {
   "cell_type": "markdown",
   "metadata": {},
   "source": [
    "The procedure to build a VAR model involves the following steps:\n",
    "\n",
    "1. Analyze the time series characteristics\n",
    "2. Test for causation amongst the time series\n",
    "3. Test for stationarity\n",
    "4. Transform the series to make it stationary, if needed\n",
    "5. Find optimal order (p)\n",
    "6. Prepare training and test datasets\n",
    "7. Train the model\n",
    "8. Roll back the transformations, if any.\n",
    "9. Evaluate the model using test set\n",
    "10. Forecast to future\n"
   ]
  },
  {
   "cell_type": "code",
   "execution_count": 139,
   "metadata": {},
   "outputs": [],
   "source": [
    "from statsmodels.tsa.api import VAR"
   ]
  },
  {
   "cell_type": "code",
   "execution_count": 140,
   "metadata": {},
   "outputs": [],
   "source": [
    "dfv = df.loc[df['Description']=='POPCORN HOLDER']"
   ]
  },
  {
   "cell_type": "code",
   "execution_count": 141,
   "metadata": {},
   "outputs": [],
   "source": [
    "dfv = dfv[['Date', 'Quantity', 'Total_Sales']]\n",
    "dfv.set_index('Date', inplace = True)"
   ]
  },
  {
   "cell_type": "code",
   "execution_count": 142,
   "metadata": {},
   "outputs": [],
   "source": [
    "#creating the train and validation set\n",
    "train = dfv[:int(0.8*(len(dfv)))]\n",
    "valid = dfv[int(0.8*(len(dfv))):]"
   ]
  },
  {
   "cell_type": "code",
   "execution_count": 143,
   "metadata": {},
   "outputs": [],
   "source": [
    "model = VAR(endog=train)\n",
    "model_fit = model.fit()\n",
    "\n",
    "# make prediction on validation\n",
    "prediction = model_fit.forecast(model_fit.y, steps=len(valid))"
   ]
  },
  {
   "cell_type": "code",
   "execution_count": 144,
   "metadata": {},
   "outputs": [],
   "source": [
    "pred = pd.DataFrame(index=range(0,len(prediction)),columns=[cols])\n",
    "for j in range(0,2):\n",
    "    for i in range(0, len(prediction)):\n",
    "       pred.iloc[i][j] = prediction[i][j]"
   ]
  },
  {
   "cell_type": "code",
   "execution_count": 145,
   "metadata": {},
   "outputs": [
    {
     "name": "stdout",
     "output_type": "stream",
     "text": [
      "rmse value for Quantity is :  206.31106199095433\n",
      "rmse value for Total_Sales is :  148.3334707858815\n"
     ]
    }
   ],
   "source": [
    "#converting predictions to dataframe\n",
    "cols = dfv.columns\n",
    "\n",
    "#check rmse\n",
    "for i in cols:\n",
    "    print('rmse value for', i, 'is : ', sqrt(mean_squared_error(pred[i], valid[i])))"
   ]
  },
  {
   "cell_type": "code",
   "execution_count": 147,
   "metadata": {},
   "outputs": [],
   "source": [
    "pred.index = valid.index\n",
    "pred['Orginal_Quantity'] = valid['Quantity']\n",
    "pred['Orginal_TS'] = valid['Total_Sales']"
   ]
  },
  {
   "cell_type": "code",
   "execution_count": 148,
   "metadata": {},
   "outputs": [
    {
     "name": "stdout",
     "output_type": "stream",
     "text": [
      "[[45.17625765 34.34921916]]\n"
     ]
    }
   ],
   "source": [
    "#make final predictions\n",
    "model = VAR(endog=dfv)\n",
    "model_fit = model.fit()\n",
    "yhat = model_fit.forecast(model_fit.y, steps=1)\n",
    "print(yhat)"
   ]
  },
  {
   "cell_type": "code",
   "execution_count": 149,
   "metadata": {},
   "outputs": [
    {
     "data": {
      "text/html": [
       "<div>\n",
       "<style scoped>\n",
       "    .dataframe tbody tr th:only-of-type {\n",
       "        vertical-align: middle;\n",
       "    }\n",
       "\n",
       "    .dataframe tbody tr th {\n",
       "        vertical-align: top;\n",
       "    }\n",
       "\n",
       "    .dataframe thead tr th {\n",
       "        text-align: left;\n",
       "    }\n",
       "\n",
       "    .dataframe thead tr:last-of-type th {\n",
       "        text-align: right;\n",
       "    }\n",
       "</style>\n",
       "<table border=\"1\" class=\"dataframe\">\n",
       "  <thead>\n",
       "    <tr>\n",
       "      <th></th>\n",
       "      <th>Quantity</th>\n",
       "      <th>Total_Sales</th>\n",
       "      <th>Orginal_Quantity</th>\n",
       "      <th>Orginal_TS</th>\n",
       "    </tr>\n",
       "    <tr>\n",
       "      <th>Date</th>\n",
       "      <th></th>\n",
       "      <th></th>\n",
       "      <th></th>\n",
       "      <th></th>\n",
       "    </tr>\n",
       "  </thead>\n",
       "  <tbody>\n",
       "    <tr>\n",
       "      <th>2011-11-21</th>\n",
       "      <td>42.010645</td>\n",
       "      <td>31.895231</td>\n",
       "      <td>100</td>\n",
       "      <td>72.00</td>\n",
       "    </tr>\n",
       "    <tr>\n",
       "      <th>2011-11-21</th>\n",
       "      <td>41.483329</td>\n",
       "      <td>31.548301</td>\n",
       "      <td>100</td>\n",
       "      <td>72.00</td>\n",
       "    </tr>\n",
       "    <tr>\n",
       "      <th>2011-11-21</th>\n",
       "      <td>41.523075</td>\n",
       "      <td>31.579625</td>\n",
       "      <td>2</td>\n",
       "      <td>1.70</td>\n",
       "    </tr>\n",
       "    <tr>\n",
       "      <th>2011-11-22</th>\n",
       "      <td>41.524681</td>\n",
       "      <td>31.581073</td>\n",
       "      <td>1000</td>\n",
       "      <td>720.00</td>\n",
       "    </tr>\n",
       "    <tr>\n",
       "      <th>2011-11-22</th>\n",
       "      <td>41.524908</td>\n",
       "      <td>31.581265</td>\n",
       "      <td>9</td>\n",
       "      <td>7.65</td>\n",
       "    </tr>\n",
       "    <tr>\n",
       "      <th>2011-11-22</th>\n",
       "      <td>41.524929</td>\n",
       "      <td>31.581284</td>\n",
       "      <td>2</td>\n",
       "      <td>1.70</td>\n",
       "    </tr>\n",
       "    <tr>\n",
       "      <th>2011-11-22</th>\n",
       "      <td>41.524931</td>\n",
       "      <td>31.581286</td>\n",
       "      <td>6</td>\n",
       "      <td>5.10</td>\n",
       "    </tr>\n",
       "    <tr>\n",
       "      <th>2011-11-22</th>\n",
       "      <td>41.524932</td>\n",
       "      <td>31.581286</td>\n",
       "      <td>2</td>\n",
       "      <td>1.70</td>\n",
       "    </tr>\n",
       "    <tr>\n",
       "      <th>2011-11-22</th>\n",
       "      <td>41.524932</td>\n",
       "      <td>31.581286</td>\n",
       "      <td>4</td>\n",
       "      <td>3.40</td>\n",
       "    </tr>\n",
       "    <tr>\n",
       "      <th>2011-11-22</th>\n",
       "      <td>41.524932</td>\n",
       "      <td>31.581286</td>\n",
       "      <td>4</td>\n",
       "      <td>3.40</td>\n",
       "    </tr>\n",
       "    <tr>\n",
       "      <th>2011-11-22</th>\n",
       "      <td>41.524932</td>\n",
       "      <td>31.581286</td>\n",
       "      <td>24</td>\n",
       "      <td>20.40</td>\n",
       "    </tr>\n",
       "    <tr>\n",
       "      <th>2011-11-23</th>\n",
       "      <td>41.524932</td>\n",
       "      <td>31.581286</td>\n",
       "      <td>100</td>\n",
       "      <td>72.00</td>\n",
       "    </tr>\n",
       "    <tr>\n",
       "      <th>2011-11-23</th>\n",
       "      <td>41.524932</td>\n",
       "      <td>31.581286</td>\n",
       "      <td>200</td>\n",
       "      <td>144.00</td>\n",
       "    </tr>\n",
       "    <tr>\n",
       "      <th>2011-11-23</th>\n",
       "      <td>41.524932</td>\n",
       "      <td>31.581286</td>\n",
       "      <td>4</td>\n",
       "      <td>3.40</td>\n",
       "    </tr>\n",
       "    <tr>\n",
       "      <th>2011-11-23</th>\n",
       "      <td>41.524932</td>\n",
       "      <td>31.581286</td>\n",
       "      <td>6</td>\n",
       "      <td>5.10</td>\n",
       "    </tr>\n",
       "  </tbody>\n",
       "</table>\n",
       "</div>"
      ],
      "text/plain": [
       "             Quantity Total_Sales Orginal_Quantity Orginal_TS\n",
       "Date                                                         \n",
       "2011-11-21  42.010645   31.895231              100      72.00\n",
       "2011-11-21  41.483329   31.548301              100      72.00\n",
       "2011-11-21  41.523075   31.579625                2       1.70\n",
       "2011-11-22  41.524681   31.581073             1000     720.00\n",
       "2011-11-22  41.524908   31.581265                9       7.65\n",
       "2011-11-22  41.524929   31.581284                2       1.70\n",
       "2011-11-22  41.524931   31.581286                6       5.10\n",
       "2011-11-22  41.524932   31.581286                2       1.70\n",
       "2011-11-22  41.524932   31.581286                4       3.40\n",
       "2011-11-22  41.524932   31.581286                4       3.40\n",
       "2011-11-22  41.524932   31.581286               24      20.40\n",
       "2011-11-23  41.524932   31.581286              100      72.00\n",
       "2011-11-23  41.524932   31.581286              200     144.00\n",
       "2011-11-23  41.524932   31.581286                4       3.40\n",
       "2011-11-23  41.524932   31.581286                6       5.10"
      ]
     },
     "execution_count": 149,
     "metadata": {},
     "output_type": "execute_result"
    }
   ],
   "source": [
    "pred.head(15)"
   ]
  },
  {
   "cell_type": "markdown",
   "metadata": {},
   "source": [
    "## LSTM"
   ]
  },
  {
   "cell_type": "code",
   "execution_count": 151,
   "metadata": {},
   "outputs": [
    {
     "data": {
      "text/html": [
       "<div>\n",
       "<style scoped>\n",
       "    .dataframe tbody tr th:only-of-type {\n",
       "        vertical-align: middle;\n",
       "    }\n",
       "\n",
       "    .dataframe tbody tr th {\n",
       "        vertical-align: top;\n",
       "    }\n",
       "\n",
       "    .dataframe thead th {\n",
       "        text-align: right;\n",
       "    }\n",
       "</style>\n",
       "<table border=\"1\" class=\"dataframe\">\n",
       "  <thead>\n",
       "    <tr style=\"text-align: right;\">\n",
       "      <th></th>\n",
       "      <th>Quantity</th>\n",
       "    </tr>\n",
       "    <tr>\n",
       "      <th>Date</th>\n",
       "      <th></th>\n",
       "    </tr>\n",
       "  </thead>\n",
       "  <tbody>\n",
       "    <tr>\n",
       "      <th>2011-06-12</th>\n",
       "      <td>9</td>\n",
       "    </tr>\n",
       "    <tr>\n",
       "      <th>2011-06-13</th>\n",
       "      <td>15</td>\n",
       "    </tr>\n",
       "    <tr>\n",
       "      <th>2011-06-14</th>\n",
       "      <td>14</td>\n",
       "    </tr>\n",
       "    <tr>\n",
       "      <th>2011-06-15</th>\n",
       "      <td>103</td>\n",
       "    </tr>\n",
       "    <tr>\n",
       "      <th>2011-06-16</th>\n",
       "      <td>9</td>\n",
       "    </tr>\n",
       "    <tr>\n",
       "      <th>...</th>\n",
       "      <td>...</td>\n",
       "    </tr>\n",
       "    <tr>\n",
       "      <th>2011-12-05</th>\n",
       "      <td>272</td>\n",
       "    </tr>\n",
       "    <tr>\n",
       "      <th>2011-12-06</th>\n",
       "      <td>233</td>\n",
       "    </tr>\n",
       "    <tr>\n",
       "      <th>2011-12-07</th>\n",
       "      <td>368</td>\n",
       "    </tr>\n",
       "    <tr>\n",
       "      <th>2011-12-08</th>\n",
       "      <td>2854</td>\n",
       "    </tr>\n",
       "    <tr>\n",
       "      <th>2011-12-09</th>\n",
       "      <td>128</td>\n",
       "    </tr>\n",
       "  </tbody>\n",
       "</table>\n",
       "<p>149 rows × 1 columns</p>\n",
       "</div>"
      ],
      "text/plain": [
       "            Quantity\n",
       "Date                \n",
       "2011-06-12         9\n",
       "2011-06-13        15\n",
       "2011-06-14        14\n",
       "2011-06-15       103\n",
       "2011-06-16         9\n",
       "...              ...\n",
       "2011-12-05       272\n",
       "2011-12-06       233\n",
       "2011-12-07       368\n",
       "2011-12-08      2854\n",
       "2011-12-09       128\n",
       "\n",
       "[149 rows x 1 columns]"
      ]
     },
     "execution_count": 151,
     "metadata": {},
     "output_type": "execute_result"
    }
   ],
   "source": [
    "df1"
   ]
  },
  {
   "cell_type": "code",
   "execution_count": 152,
   "metadata": {},
   "outputs": [],
   "source": [
    "#LSTM uses sigmoid and tanh that are sensitive to magnitude so values need to be normalized\n",
    "# normalize the dataset\n",
    "scaler = MinMaxScaler(feature_range=(0, 1)) #Also try QuantileTransformer\n",
    "dataset = scaler.fit_transform(df1)"
   ]
  },
  {
   "cell_type": "code",
   "execution_count": 153,
   "metadata": {},
   "outputs": [],
   "source": [
    "#We cannot use random way of splitting dataset into train and test as\n",
    "#the sequence of events is important for time series.\n",
    "#So let us take first 60% values for train and the remaining 1/3 for testing\n",
    "# split into train and test sets\n",
    "train_size = int(len(dataset) * 0.66)\n",
    "test_size = len(dataset) - train_size\n",
    "train, test = dataset[0:train_size,:], dataset[train_size:len(dataset),:]"
   ]
  },
  {
   "cell_type": "code",
   "execution_count": 154,
   "metadata": {},
   "outputs": [],
   "source": [
    "# We cannot fit the model like we normally do for image processing where we have\n",
    "#X and Y. We need to transform our data into something that looks like X and Y values.\n",
    "# This way it can be trained on a sequence rather than indvidual datapoints. \n",
    "# Let us convert into n number of columns for X where we feed sequence of numbers\n",
    "#then the final column as Y where we provide the next number in the sequence as output.\n",
    "# So let us convert an array of values into a dataset matrix\n",
    "\n",
    "#seq_size is the number of previous time steps to use as \n",
    "#input variables to predict the next time period.\n",
    "\n",
    "#creates a dataset where X is the number of passengers at a given time (t, t-1, t-2...) \n",
    "#and Y is the number of passengers at the next time (t + 1).\n",
    "\n",
    "def to_sequences(dataset, seq_size=1):\n",
    "    x = []\n",
    "    y = []\n",
    "\n",
    "    for i in range(len(dataset)-seq_size-1):\n",
    "        #print(i)\n",
    "        window = dataset[i:(i+seq_size), 0]\n",
    "        x.append(window)\n",
    "        y.append(dataset[i+seq_size, 0])\n",
    "        \n",
    "    return np.array(x),np.array(y)"
   ]
  },
  {
   "cell_type": "code",
   "execution_count": 155,
   "metadata": {},
   "outputs": [],
   "source": [
    "seq_size = 10  # Number of time steps to look back \n",
    "#Larger sequences (look further back) may improve forecasting.\n",
    "\n",
    "trainX, trainY = to_sequences(train, seq_size)\n",
    "testX, testY = to_sequences(test, seq_size)\n"
   ]
  },
  {
   "cell_type": "code",
   "execution_count": 156,
   "metadata": {},
   "outputs": [
    {
     "name": "stdout",
     "output_type": "stream",
     "text": [
      "Shape of training set: (87, 10)\n",
      "Shape of test set: (40, 10)\n"
     ]
    }
   ],
   "source": [
    "print(\"Shape of training set: {}\".format(trainX.shape))\n",
    "print(\"Shape of test set: {}\".format(testX.shape))"
   ]
  },
  {
   "cell_type": "code",
   "execution_count": 157,
   "metadata": {},
   "outputs": [
    {
     "name": "stdout",
     "output_type": "stream",
     "text": [
      "Single LSTM with hidden Dense...\n",
      "Model: \"sequential\"\n",
      "_________________________________________________________________\n",
      "Layer (type)                 Output Shape              Param #   \n",
      "=================================================================\n",
      "lstm (LSTM)                  (None, 64)                19200     \n",
      "_________________________________________________________________\n",
      "dense (Dense)                (None, 32)                2080      \n",
      "_________________________________________________________________\n",
      "dense_1 (Dense)              (None, 1)                 33        \n",
      "=================================================================\n",
      "Total params: 21,313\n",
      "Trainable params: 21,313\n",
      "Non-trainable params: 0\n",
      "_________________________________________________________________\n",
      "Train...\n"
     ]
    }
   ],
   "source": [
    "# Reshape input to be [samples, time steps, features]\n",
    "trainX = np.reshape(trainX, (trainX.shape[0], 1, trainX.shape[1]))\n",
    "testX = np.reshape(testX, (testX.shape[0], 1, testX.shape[1]))\n",
    "\n",
    "print('Single LSTM with hidden Dense...')\n",
    "model = Sequential()\n",
    "model.add(LSTM(64, input_shape=(None, seq_size)))\n",
    "model.add(Dense(32))\n",
    "model.add(Dense(1))\n",
    "model.compile(loss='mean_squared_error', optimizer='adam')\n",
    "#monitor = EarlyStopping(monitor='val_loss', min_delta=1e-3, patience=20, \n",
    "#                        verbose=1, mode='auto', restore_best_weights=True)\n",
    "model.summary()\n",
    "print('Train...')"
   ]
  },
  {
   "cell_type": "code",
   "execution_count": 158,
   "metadata": {},
   "outputs": [
    {
     "name": "stdout",
     "output_type": "stream",
     "text": [
      "Epoch 1/100\n",
      "3/3 - 3s - loss: 0.0100 - val_loss: 0.0463\n",
      "Epoch 2/100\n",
      "3/3 - 0s - loss: 0.0087 - val_loss: 0.0420\n",
      "Epoch 3/100\n",
      "3/3 - 0s - loss: 0.0089 - val_loss: 0.0411\n",
      "Epoch 4/100\n",
      "3/3 - 0s - loss: 0.0088 - val_loss: 0.0424\n",
      "Epoch 5/100\n",
      "3/3 - 0s - loss: 0.0087 - val_loss: 0.0446\n",
      "Epoch 6/100\n",
      "3/3 - 0s - loss: 0.0084 - val_loss: 0.0458\n",
      "Epoch 7/100\n",
      "3/3 - 0s - loss: 0.0084 - val_loss: 0.0463\n",
      "Epoch 8/100\n",
      "3/3 - 0s - loss: 0.0083 - val_loss: 0.0469\n",
      "Epoch 9/100\n",
      "3/3 - 0s - loss: 0.0083 - val_loss: 0.0471\n",
      "Epoch 10/100\n",
      "3/3 - 0s - loss: 0.0082 - val_loss: 0.0465\n",
      "Epoch 11/100\n",
      "3/3 - 0s - loss: 0.0082 - val_loss: 0.0460\n",
      "Epoch 12/100\n",
      "3/3 - 0s - loss: 0.0082 - val_loss: 0.0454\n",
      "Epoch 13/100\n",
      "3/3 - 0s - loss: 0.0082 - val_loss: 0.0463\n",
      "Epoch 14/100\n",
      "3/3 - 0s - loss: 0.0081 - val_loss: 0.0470\n",
      "Epoch 15/100\n",
      "3/3 - 0s - loss: 0.0081 - val_loss: 0.0478\n",
      "Epoch 16/100\n",
      "3/3 - 0s - loss: 0.0081 - val_loss: 0.0488\n",
      "Epoch 17/100\n",
      "3/3 - 0s - loss: 0.0080 - val_loss: 0.0484\n",
      "Epoch 18/100\n",
      "3/3 - 0s - loss: 0.0080 - val_loss: 0.0481\n",
      "Epoch 19/100\n",
      "3/3 - 0s - loss: 0.0080 - val_loss: 0.0483\n",
      "Epoch 20/100\n",
      "3/3 - 0s - loss: 0.0080 - val_loss: 0.0490\n",
      "Epoch 21/100\n",
      "3/3 - 0s - loss: 0.0080 - val_loss: 0.0488\n",
      "Epoch 22/100\n",
      "3/3 - 0s - loss: 0.0080 - val_loss: 0.0485\n",
      "Epoch 23/100\n",
      "3/3 - 0s - loss: 0.0080 - val_loss: 0.0486\n",
      "Epoch 24/100\n",
      "3/3 - 0s - loss: 0.0080 - val_loss: 0.0485\n",
      "Epoch 25/100\n",
      "3/3 - 0s - loss: 0.0080 - val_loss: 0.0484\n",
      "Epoch 26/100\n",
      "3/3 - 0s - loss: 0.0080 - val_loss: 0.0488\n",
      "Epoch 27/100\n",
      "3/3 - 0s - loss: 0.0080 - val_loss: 0.0490\n",
      "Epoch 28/100\n",
      "3/3 - 0s - loss: 0.0080 - val_loss: 0.0493\n",
      "Epoch 29/100\n",
      "3/3 - 0s - loss: 0.0079 - val_loss: 0.0495\n",
      "Epoch 30/100\n",
      "3/3 - 0s - loss: 0.0079 - val_loss: 0.0496\n",
      "Epoch 31/100\n",
      "3/3 - 0s - loss: 0.0080 - val_loss: 0.0496\n",
      "Epoch 32/100\n",
      "3/3 - 0s - loss: 0.0080 - val_loss: 0.0489\n",
      "Epoch 33/100\n",
      "3/3 - 0s - loss: 0.0080 - val_loss: 0.0489\n",
      "Epoch 34/100\n",
      "3/3 - 0s - loss: 0.0079 - val_loss: 0.0483\n",
      "Epoch 35/100\n",
      "3/3 - 0s - loss: 0.0080 - val_loss: 0.0481\n",
      "Epoch 36/100\n",
      "3/3 - 0s - loss: 0.0079 - val_loss: 0.0482\n",
      "Epoch 37/100\n",
      "3/3 - 0s - loss: 0.0079 - val_loss: 0.0486\n",
      "Epoch 38/100\n",
      "3/3 - 0s - loss: 0.0079 - val_loss: 0.0488\n",
      "Epoch 39/100\n",
      "3/3 - 0s - loss: 0.0080 - val_loss: 0.0490\n",
      "Epoch 40/100\n",
      "3/3 - 0s - loss: 0.0079 - val_loss: 0.0483\n",
      "Epoch 41/100\n",
      "3/3 - 0s - loss: 0.0079 - val_loss: 0.0478\n",
      "Epoch 42/100\n",
      "3/3 - 0s - loss: 0.0080 - val_loss: 0.0482\n",
      "Epoch 43/100\n",
      "3/3 - 0s - loss: 0.0080 - val_loss: 0.0485\n",
      "Epoch 44/100\n",
      "3/3 - 0s - loss: 0.0080 - val_loss: 0.0497\n",
      "Epoch 45/100\n",
      "3/3 - 0s - loss: 0.0079 - val_loss: 0.0497\n",
      "Epoch 46/100\n",
      "3/3 - 0s - loss: 0.0079 - val_loss: 0.0491\n",
      "Epoch 47/100\n",
      "3/3 - 0s - loss: 0.0079 - val_loss: 0.0490\n",
      "Epoch 48/100\n",
      "3/3 - 0s - loss: 0.0079 - val_loss: 0.0485\n",
      "Epoch 49/100\n",
      "3/3 - 0s - loss: 0.0079 - val_loss: 0.0485\n",
      "Epoch 50/100\n",
      "3/3 - 0s - loss: 0.0079 - val_loss: 0.0492\n",
      "Epoch 51/100\n",
      "3/3 - 0s - loss: 0.0080 - val_loss: 0.0501\n",
      "Epoch 52/100\n",
      "3/3 - 0s - loss: 0.0080 - val_loss: 0.0491\n",
      "Epoch 53/100\n",
      "3/3 - 0s - loss: 0.0079 - val_loss: 0.0483\n",
      "Epoch 54/100\n",
      "3/3 - 0s - loss: 0.0079 - val_loss: 0.0479\n",
      "Epoch 55/100\n",
      "3/3 - 0s - loss: 0.0079 - val_loss: 0.0481\n",
      "Epoch 56/100\n",
      "3/3 - 0s - loss: 0.0079 - val_loss: 0.0490\n",
      "Epoch 57/100\n",
      "3/3 - 0s - loss: 0.0079 - val_loss: 0.0495\n",
      "Epoch 58/100\n",
      "3/3 - 0s - loss: 0.0079 - val_loss: 0.0489\n",
      "Epoch 59/100\n",
      "3/3 - 0s - loss: 0.0080 - val_loss: 0.0487\n",
      "Epoch 60/100\n",
      "3/3 - 0s - loss: 0.0079 - val_loss: 0.0477\n",
      "Epoch 61/100\n",
      "3/3 - 0s - loss: 0.0079 - val_loss: 0.0470\n",
      "Epoch 62/100\n",
      "3/3 - 0s - loss: 0.0080 - val_loss: 0.0472\n",
      "Epoch 63/100\n",
      "3/3 - 0s - loss: 0.0080 - val_loss: 0.0484\n",
      "Epoch 64/100\n",
      "3/3 - 0s - loss: 0.0080 - val_loss: 0.0498\n",
      "Epoch 65/100\n",
      "3/3 - 0s - loss: 0.0080 - val_loss: 0.0498\n",
      "Epoch 66/100\n",
      "3/3 - 0s - loss: 0.0079 - val_loss: 0.0495\n",
      "Epoch 67/100\n",
      "3/3 - 0s - loss: 0.0079 - val_loss: 0.0486\n",
      "Epoch 68/100\n",
      "3/3 - 0s - loss: 0.0079 - val_loss: 0.0481\n",
      "Epoch 69/100\n",
      "3/3 - 0s - loss: 0.0079 - val_loss: 0.0476\n",
      "Epoch 70/100\n",
      "3/3 - 0s - loss: 0.0079 - val_loss: 0.0482\n",
      "Epoch 71/100\n",
      "3/3 - 0s - loss: 0.0079 - val_loss: 0.0492\n",
      "Epoch 72/100\n",
      "3/3 - 0s - loss: 0.0080 - val_loss: 0.0506\n",
      "Epoch 73/100\n",
      "3/3 - 0s - loss: 0.0080 - val_loss: 0.0499\n",
      "Epoch 74/100\n",
      "3/3 - 0s - loss: 0.0079 - val_loss: 0.0492\n",
      "Epoch 75/100\n",
      "3/3 - 0s - loss: 0.0079 - val_loss: 0.0482\n",
      "Epoch 76/100\n",
      "3/3 - 0s - loss: 0.0079 - val_loss: 0.0478\n",
      "Epoch 77/100\n",
      "3/3 - 0s - loss: 0.0079 - val_loss: 0.0479\n",
      "Epoch 78/100\n",
      "3/3 - 0s - loss: 0.0079 - val_loss: 0.0485\n",
      "Epoch 79/100\n",
      "3/3 - 0s - loss: 0.0079 - val_loss: 0.0489\n",
      "Epoch 80/100\n",
      "3/3 - 0s - loss: 0.0079 - val_loss: 0.0493\n",
      "Epoch 81/100\n",
      "3/3 - 0s - loss: 0.0079 - val_loss: 0.0484\n",
      "Epoch 82/100\n",
      "3/3 - 0s - loss: 0.0079 - val_loss: 0.0480\n",
      "Epoch 83/100\n",
      "3/3 - 0s - loss: 0.0080 - val_loss: 0.0485\n",
      "Epoch 84/100\n",
      "3/3 - 0s - loss: 0.0079 - val_loss: 0.0482\n",
      "Epoch 85/100\n",
      "3/3 - 0s - loss: 0.0079 - val_loss: 0.0481\n",
      "Epoch 86/100\n",
      "3/3 - 0s - loss: 0.0079 - val_loss: 0.0482\n",
      "Epoch 87/100\n",
      "3/3 - 0s - loss: 0.0079 - val_loss: 0.0483\n",
      "Epoch 88/100\n",
      "3/3 - 0s - loss: 0.0080 - val_loss: 0.0494\n",
      "Epoch 89/100\n",
      "3/3 - 0s - loss: 0.0079 - val_loss: 0.0494\n",
      "Epoch 90/100\n",
      "3/3 - 0s - loss: 0.0079 - val_loss: 0.0486\n",
      "Epoch 91/100\n",
      "3/3 - 0s - loss: 0.0079 - val_loss: 0.0484\n",
      "Epoch 92/100\n",
      "3/3 - 0s - loss: 0.0079 - val_loss: 0.0488\n",
      "Epoch 93/100\n",
      "3/3 - 0s - loss: 0.0079 - val_loss: 0.0493\n",
      "Epoch 94/100\n",
      "3/3 - 0s - loss: 0.0079 - val_loss: 0.0487\n",
      "Epoch 95/100\n",
      "3/3 - 0s - loss: 0.0079 - val_loss: 0.0489\n",
      "Epoch 96/100\n",
      "3/3 - 0s - loss: 0.0079 - val_loss: 0.0483\n",
      "Epoch 97/100\n",
      "3/3 - 0s - loss: 0.0079 - val_loss: 0.0486\n",
      "Epoch 98/100\n",
      "3/3 - 0s - loss: 0.0079 - val_loss: 0.0483\n",
      "Epoch 99/100\n",
      "3/3 - 0s - loss: 0.0079 - val_loss: 0.0490\n",
      "Epoch 100/100\n",
      "3/3 - 0s - loss: 0.0079 - val_loss: 0.0488\n"
     ]
    }
   ],
   "source": [
    "model.fit(trainX, trainY, validation_data=(testX, testY),\n",
    "          verbose=2, epochs=100)\n",
    "\n",
    "\n",
    "# make predictions\n",
    "\n",
    "trainPredict = model.predict(trainX)\n",
    "testPredict = model.predict(testX)\n"
   ]
  },
  {
   "cell_type": "code",
   "execution_count": 159,
   "metadata": {},
   "outputs": [],
   "source": [
    "# invert predictions back to prescaled values\n",
    "#This is to compare with original input values\n",
    "#SInce we used minmaxscaler we can now use scaler.inverse_transform\n",
    "#to invert the transformation.\n",
    "trainPredict = scaler.inverse_transform(trainPredict)\n",
    "trainY = scaler.inverse_transform([trainY])\n",
    "testPredict = scaler.inverse_transform(testPredict)\n",
    "testY = scaler.inverse_transform([testY])\n"
   ]
  },
  {
   "cell_type": "code",
   "execution_count": 160,
   "metadata": {},
   "outputs": [
    {
     "name": "stdout",
     "output_type": "stream",
     "text": [
      "Train Score: 253.31 RMSE\n",
      "Test Score: 630.33 RMSE\n"
     ]
    }
   ],
   "source": [
    "# calculate root mean squared error\n",
    "trainScore = math.sqrt(mean_squared_error(trainY[0], trainPredict[:,0]))\n",
    "print('Train Score: %.2f RMSE' % (trainScore))\n",
    "\n",
    "testScore = math.sqrt(mean_squared_error(testY[0], testPredict[:,0]))\n",
    "print('Test Score: %.2f RMSE' % (testScore))\n"
   ]
  },
  {
   "cell_type": "code",
   "execution_count": 161,
   "metadata": {},
   "outputs": [],
   "source": [
    "# shift train predictions for plotting\n",
    "#we must shift the predictions so that they align on the x-axis with the original dataset. \n",
    "trainPredictPlot = np.empty_like(dataset)\n",
    "trainPredictPlot[:, :] = np.nan\n",
    "trainPredictPlot[seq_size:len(trainPredict)+seq_size, :] = trainPredict\n",
    "\n",
    "# shift test predictions for plotting\n",
    "testPredictPlot = np.empty_like(dataset)\n",
    "testPredictPlot[:, :] = np.nan\n",
    "testPredictPlot[len(trainPredict)+(seq_size*2)+1:len(dataset)-1, :] = testPredict"
   ]
  },
  {
   "cell_type": "code",
   "execution_count": 165,
   "metadata": {},
   "outputs": [
    {
     "data": {
      "image/png": "[encoded data removed]",
      "text/plain": [
       "<Figure size 432x288 with 1 Axes>"
      ]
     },
     "metadata": {
      "needs_background": "light"
     },
     "output_type": "display_data"
    }
   ],
   "source": [
    "# plot baseline and predictions\n",
    "plt.plot(scaler.inverse_transform(dataset))\n",
    "plt.plot(trainPredictPlot)\n",
    "plt.plot(testPredictPlot)\n",
    "plt.show()"
   ]
  },
  {
   "cell_type": "code",
   "execution_count": null,
   "metadata": {},
   "outputs": [],
   "source": []
  }
 ],
 "metadata": {
  "kernelspec": {
   "display_name": "TS",
   "language": "python",
   "name": "python3"
  },
  "language_info": {
   "codemirror_mode": {
    "name": "ipython",
    "version": 3
   },
   "file_extension": ".py",
   "mimetype": "text/x-python",
   "name": "python",
   "nbconvert_exporter": "python",
   "pygments_lexer": "ipython3",
   "version": "3.8.0"
  }
 },
 "nbformat": 4,
 "nbformat_minor": 2
}
